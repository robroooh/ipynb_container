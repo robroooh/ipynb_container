{
 "cells": [
  {
   "cell_type": "code",
   "execution_count": 226,
   "metadata": {
    "collapsed": true
   },
   "outputs": [],
   "source": [
    "%matplotlib inline\n",
    "import numpy as np\n",
    "from matplotlib import pyplot as plt\n",
    "from scipy.optimize import fmin, minimize\n",
    "import random"
   ]
  },
  {
   "cell_type": "markdown",
   "metadata": {},
   "source": [
    "# Generate the data"
   ]
  },
  {
   "cell_type": "code",
   "execution_count": 300,
   "metadata": {
    "collapsed": false
   },
   "outputs": [],
   "source": [
    "# x_all = np.array([ 0.1       ,  0.56666667,  1.03333333,  1.5       ,  1.96666667,2.43333333,  2.9       ])\n",
    "# y_all = np.array([ 3.13640523,  1.83109539,  1.31565158,  0.77591068,  1.40453358,1.77338332,  3.05500884])\n",
    "def gen_data(num):\n",
    "    x_all = np.linspace(-1.0, 1.0, num=num)\n",
    "    np.random.shuffle(x_all)\n",
    "    y_all = .01*x_all-.09*x_all**2+.08*x_all**3-.0003*x_all**4-.08*x_all**5+0.0900*x_all**6 + 1*np.random.normal(loc=0.0, scale=3.0, size=num)\n",
    "    separator = int(len(x_all) * 0.6)\n",
    "    x_train = x_all[:separator]\n",
    "    y_train = y_all[:separator]\n",
    "    x_test = x_all[separator:]\n",
    "    y_test = y_all[separator:]\n",
    "    \n",
    "    return (x_train,y_train),(x_test,y_test)"
   ]
  },
  {
   "cell_type": "markdown",
   "metadata": {},
   "source": [
    "# Define simple LinearRegression class & transform function\n",
    "which might be too simple to use in our application"
   ]
  },
  {
   "cell_type": "code",
   "execution_count": 253,
   "metadata": {
    "collapsed": true
   },
   "outputs": [],
   "source": [
    "def toNDegree(x,n):\n",
    "    ret = np.zeros((len(x),n))\n",
    "    for i in range(n):\n",
    "        ret[:,i] = x**i\n",
    "    return ret\n",
    "\n",
    "\n",
    "class LinearRegression:\n",
    "    \n",
    "    def __init__(self, x, y):\n",
    "        self.minx = np.amin(x)\n",
    "        self.maxx = np.amax(x)\n",
    "        self.px = x\n",
    "        self.y = y\n",
    "        self.ndata = len(self.px)\n",
    "\n",
    "    def cost(self, w):\n",
    "        sum1 = 0.0\n",
    "        sum2 = 0.0\n",
    "        \n",
    "        oneover2n = (0.5*1/float(self.ndata))\n",
    "        \n",
    "        for i in xrange(self.ndata):\n",
    "            sum1 += (np.dot(w, self.px[i]) - self.y[i])**4\n",
    "        sum1 *= oneover2n\n",
    "            \n",
    "        for i in range(1, len(w)):\n",
    "            sum2 += w[i]**2\n",
    "            \n",
    "        sum2 *= self.lamb\n",
    "        \n",
    "        return sum1 + sum2\n",
    "\n",
    "    def drawlinepara(self):\n",
    "        x = np.linspace(-1, 1, 100)\n",
    "        y = self.w[0]+(self.w[1]*x) + (self.w[2]*(x**2))\n",
    "        plt.plot(x, y, 'r')\n",
    "        \n",
    "    def drawlinepoly(self, color = 'c', alp = 1):\n",
    "        x = np.linspace(-1, 1, 100)\n",
    "        y = np.zeros(100)\n",
    "        for i in range(nb_degree):\n",
    "            y += self.w[i]*(x**i)\n",
    "            \n",
    "        plt.plot(x, y, color, alpha=alp,linewidth=2.0)\n",
    "        \n",
    "    def set_w(self, w):\n",
    "        self.w = w\n",
    "    \n",
    "    def set_nb_degree(self, nb_degree):\n",
    "        self.nb_degree = nb_degree\n",
    "    \n",
    "    def set_lamb(self, lamb):\n",
    "        self.lamb = lamb"
   ]
  },
  {
   "cell_type": "markdown",
   "metadata": {
    "collapsed": false
   },
   "source": [
    "# Original Equation, MSE\n",
    "then we take derivative of L respect to W to find the influence of L on w vector  \n",
    "$$ L = \\frac{1}{2n}\\sum_{i=1}^n(w^Tx_i-y_i)^2+\\lambda\\sum_{i=1}^nw_i^2 \\\\ $$\n",
    "$$ \\frac{\\partial L}{\\partial w}=0$$\n",
    "\n",
    "### The equation that is $\\hat{y}$-$y$\n",
    "$$ L = \\frac{1}{2n}\\sum_{i=1}^n(w^Tx_i-y_i)^2+\\lambda\\sum_{i=1}^nw_i^2; \\frac{\\partial L}{\\partial w}=0\\\\ $$\n",
    "$$\n",
    "\\begin{align}\n",
    "\\frac{2}{2n}\\sum_{i=1}^n(w^Tx_i-y_i)\\sum_{i=1}^n(x_i) + 2\\lambda\\sum_{i=1}^n(w_i) & = 0 \\\\\n",
    "\\frac{1}{n}\\sum_{i=1}^n(w^Tx_i-y_i)\\sum_{i=1}^n(x_i) & = -2\\lambda\\sum_{i=1}^n(w_i) \\\\\n",
    "\\frac{\\sum_{i=1}^n(w^Tx_i-y_i)\\sum_{i=1}^n(x_i)}{2n\\sum_{i=1}^n(w_i)} &= -\\lambda\n",
    "\\end{align}   \n",
    "$$\n",
    "\n",
    "#### Assume that Lambda needs to be positive\n",
    "assign $\\lambda = |\\lambda|$\n"
   ]
  },
  {
   "cell_type": "markdown",
   "metadata": {},
   "source": [
    "# Define calc_lambda function\n",
    "which is the function what does exactly the same as the above equation to find the lambda  "
   ]
  },
  {
   "cell_type": "code",
   "execution_count": 296,
   "metadata": {
    "collapsed": true
   },
   "outputs": [],
   "source": [
    "def calc_lambda(x,y,w,n):   \n",
    "    sum_yreal_predict = 0.0\n",
    "    sum_px = 0.0\n",
    "    sum_w = 0.0\n",
    "    lamb = 0.0\n",
    "    ndata = len(x)\n",
    "    px = toNDegree(x,n)\n",
    "    for i in xrange(ndata):\n",
    "        sum_yreal_predict += (np.dot(w, px[i]) - y[i])\n",
    "        sum_px += sum(px[i,:])\n",
    "    sum_yreal_predict *= sum_px\n",
    "    for i in xrange(len(w)):\n",
    "        sum_w += w[i]**2\n",
    "    sum_w *= 2*ndata\n",
    "    lamb = (sum_yreal_predict/sum_w)\n",
    "    return lamb if lamb > 0 else -1*lamb"
   ]
  },
  {
   "cell_type": "code",
   "execution_count": 324,
   "metadata": {
    "collapsed": false
   },
   "outputs": [
    {
     "name": "stdout",
     "output_type": "stream",
     "text": [
      "expected lamb =  9.21945482063e-08\n",
      "('mseOverfit_train = ', 199.88520118792471)\n",
      "('mseRelaxed_train = ', 210.40750920544744)\n",
      "('mseOverfit_test = ', 334472538.09892869)\n",
      "('mseRelaxed_test = ', 85286278.759854287)\n"
     ]
    },
    {
     "data": {
      "image/png": "[encoded data removed]",
      "text/plain": [
       "<matplotlib.figure.Figure at 0x7f586f7363d0>"
      ]
     },
     "metadata": {},
     "output_type": "display_data"
    }
   ],
   "source": [
    "(x_train,y_train),(x_test,y_test) = gen_data(50)\n",
    "plt.plot(x_train, y_train, 'mo')\n",
    "plt.plot(x_test, y_test, 'ro')\n",
    "plt.ylim([-15,15])\n",
    "plt.grid(True)\n",
    "\n",
    "nb_degree = 100\n",
    "x_test_poly = toNDegree(x_test,nb_degree)\n",
    "x_train_poly = toNDegree(x_train,nb_degree)\n",
    "\n",
    "lr = LinearRegression(x_train_poly, y_train)\n",
    "lr.set_lamb(0)\n",
    "lr.set_nb_degree(nb_degree)\n",
    "\n",
    "ws = minimize(lr.cost, np.zeros(nb_degree), tol=1e-9)\n",
    "overfitted_w = ws.x\n",
    "lr.set_w(ws.x)\n",
    "lr.drawlinepoly('c',.7)\n",
    "\n",
    "expected_lamb = calc_lambda(x_train, y_train, overfitted_w, nb_degree)\n",
    "print \"expected lamb = \", expected_lamb\n",
    "\n",
    "lr2 =  LinearRegression(x_train_poly, y_train)\n",
    "lr2.set_lamb(expected_lamb)\n",
    "lr2.set_nb_degree(nb_degree)\n",
    "\n",
    "ws2 = minimize(lr2.cost, overfitted_w)\n",
    "lr2.set_w(ws2.x)\n",
    "lr2.drawlinepoly('y',.7)\n",
    "\n",
    "print (\"mseOverfit_train = \", sum([(np.dot(lr.w, x_train_poly[i]) - y_train[i])**2 for i in range(len(x_train_poly))]))\n",
    "print (\"mseRelaxed_train = \", sum([(np.dot(lr2.w, x_train_poly[i]) - y_train[i])**2 for i in range(len(x_train_poly))]))\n",
    "\n",
    "print (\"mseOverfit_test = \", sum([(np.dot(lr.w, x_test_poly[i]) - y_test[i])**2 for i in range(len(x_test_poly))]))\n",
    "print (\"mseRelaxed_test = \", sum([(np.dot(lr2.w, x_test_poly[i]) - y_test[i])**2 for i in range(len(x_test_poly))]))"
   ]
  }
 ],
 "metadata": {
  "kernelspec": {
   "display_name": "Python 2",
   "language": "python",
   "name": "python2"
  },
  "language_info": {
   "codemirror_mode": {
    "name": "ipython",
    "version": 2
   },
   "file_extension": ".py",
   "mimetype": "text/x-python",
   "name": "python",
   "nbconvert_exporter": "python",
   "pygments_lexer": "ipython2",
   "version": "2.7.6"
  }
 },
 "nbformat": 4,
 "nbformat_minor": 0
}
