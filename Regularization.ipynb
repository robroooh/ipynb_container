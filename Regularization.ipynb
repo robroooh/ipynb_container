{
 "cells": [
  {
   "cell_type": "code",
   "execution_count": 18,
   "metadata": {
    "collapsed": false
   },
   "outputs": [],
   "source": [
    "%matplotlib inline\n",
    "import numpy as np\n",
    "from matplotlib import pyplot as plt\n",
    "from scipy.optimize import fmin, minimize\n",
    "import random"
   ]
  },
  {
   "cell_type": "markdown",
   "metadata": {},
   "source": [
    "# Generate the data"
   ]
  },
  {
   "cell_type": "code",
   "execution_count": 29,
   "metadata": {
    "collapsed": false
   },
   "outputs": [
    {
     "name": "stdout",
     "output_type": "stream",
     "text": [
      "-1.0\n",
      "1.0\n"
     ]
    },
    {
     "data": {
      "image/png": "[encoded data removed]",
      "text/plain": [
       "<matplotlib.figure.Figure at 0x90f2f28>"
      ]
     },
     "metadata": {},
     "output_type": "display_data"
    }
   ],
   "source": [
    "# x_all = np.array([ 0.1       ,  0.56666667,  1.03333333,  1.5       ,  1.96666667,2.43333333,  2.9       ])\n",
    "# y_all = np.array([ 3.13640523,  1.83109539,  1.31565158,  0.77591068,  1.40453358,1.77338332,  3.05500884])\n",
    "\n",
    "x_all = np.linspace(-1.0, 1.0, num=100)\n",
    "np.random.shuffle(x_all)\n",
    "y_all = .01*x_all-.09*x_all**2+.08*x_all**3-.0003*x_all**4-.08*x_all**5+0.0900*x_all**6 + 0.0025*np.random.normal(loc=0.0, scale=3.0, size=100)\n",
    "\n",
    "x_all *= 1\n",
    "y_all *= 1\n",
    "\n",
    "x_train = x_all[:60]\n",
    "y_train = y_all[:60]\n",
    "x_test = x_all[60:]\n",
    "y_test = y_all[60:]\n",
    "\n",
    "plt.plot(x_train, y_train, 'mo')\n",
    "plt.plot(x_test, y_test, 'co')\n",
    "\n",
    "plt.grid(True)\n",
    "print np.amin(x_all)\n",
    "print np.amax(x_all)"
   ]
  },
  {
   "cell_type": "markdown",
   "metadata": {},
   "source": [
    "# Define simple LinearRegression class & transform function\n",
    "which might be too simple to use in our application"
   ]
  },
  {
   "cell_type": "code",
   "execution_count": 40,
   "metadata": {
    "collapsed": false
   },
   "outputs": [],
   "source": [
    "def toPara(x):\n",
    "    ret = (len(x), 3)\n",
    "    ret = np.zeros(ret)\n",
    "    \n",
    "    ret[:, 0] = 1\n",
    "    ret[:, 1] = x\n",
    "    ret[:, 2] = x**2\n",
    "    return ret\n",
    "\n",
    "def toPoly(x):\n",
    "    ret = (len(x), 7)\n",
    "    ret = np.zeros(ret)\n",
    "    \n",
    "    ret[:, 0] = 1\n",
    "    ret[:, 1] = x\n",
    "    ret[:, 2] = x**2\n",
    "    ret[:, 3] = x**3\n",
    "    ret[:, 4] = x**4\n",
    "    ret[:, 5] = x**5\n",
    "    ret[:, 6] = x**6\n",
    "\n",
    "    return ret\n",
    "\n",
    "def toNDegree(x,n):\n",
    "    ret = np.zeros((len(x),n))\n",
    "    for i in range(n):\n",
    "        ret[:,i] = x**i\n",
    "    return ret\n",
    "\n",
    "\n",
    "class LinearRegression:\n",
    "    \n",
    "    def __init__(self, x, y):\n",
    "        self.minx = np.amin(x)\n",
    "        self.maxx = np.amax(x)\n",
    "        self.px = x\n",
    "        self.y = y\n",
    "        self.ndata = len(self.px)\n",
    "\n",
    "    def cost(self, w):\n",
    "        sum1 = 0.0\n",
    "        sum2 = 0.0\n",
    "        \n",
    "        oneover2n = (0.5*1/float(self.ndata))\n",
    "        \n",
    "        for i in xrange(self.ndata):\n",
    "            sum1 += (np.dot(w, self.px[i]) - self.y[i])**2\n",
    "        sum1 *= oneover2n\n",
    "            \n",
    "        for i in range(1, len(w)):\n",
    "            sum2 += w[i]**2\n",
    "            \n",
    "        sum2 *= self.lamb\n",
    "        \n",
    "        return sum1 + sum2\n",
    "\n",
    "    def drawlinepara(self):\n",
    "        x = np.linspace(-1, 1, 100)\n",
    "        y = self.w[0]+(self.w[1]*x) + (self.w[2]*(x**2))\n",
    "        \n",
    "        plt.plot(x, y, 'r')\n",
    "        \n",
    "    \n",
    "    def drawlinepoly(self):\n",
    "        x = np.linspace(-1, 1, 100)\n",
    "        y = self.w[0] + (self.w[1]*x) + (self.w[2]*(x**2)) + (self.w[3]*(x**3)) + (self.w[4]*(x**4)) +(self.w[5]*(x**5)) + (self.w[6]*(x**6))\n",
    "        \n",
    "        plt.plot(x, y, 'c',linewidth=2.0)\n",
    "        \n",
    "    def set_w(self, w):\n",
    "        self.w = w\n",
    "        \n",
    "    def set_lamb(self, lamb):\n",
    "        self.lamb = lamb"
   ]
  },
  {
   "cell_type": "markdown",
   "metadata": {},
   "source": [
    "# Draw 3 graph\n",
    " - the parabola one\n",
    " - the one that is too complex and should cause overfitting\n",
    " - the one that is overfitting but regularize it with 0.01"
   ]
  },
  {
   "cell_type": "code",
   "execution_count": null,
   "metadata": {
    "collapsed": false,
    "scrolled": false
   },
   "outputs": [
    {
     "name": "stdout",
     "output_type": "stream",
     "text": [
      "minimize for para [-0.0098495   0.02218884 -0.02018046]\n"
     ]
    }
   ],
   "source": [
    "l = LinearRegression(toPara(x_train), y_train)\n",
    "l.set_lamb(0)\n",
    "res = minimize(l.cost, [0, 0, 0])\n",
    "print 'minimize for para', res.x\n",
    "plt.plot(x_train, y_train, 'mo')\n",
    "plt.plot(x_test, y_test, 'ro')\n",
    "plt.grid(True)\n",
    "l.set_w(res.x)\n",
    "l.drawlinepara()\n",
    "######################\n",
    "\n",
    "nb_degree = 4000\n",
    "\n",
    "plt.figure()\n",
    "plt.plot(x_train, y_train, 'mo')\n",
    "plt.plot(x_test, y_test, 'ro')\n",
    "plt.grid(True)\n",
    "l2 = LinearRegression(toNDegree(x_train,nb_degree), y_train)\n",
    "l2.set_lamb(0)\n",
    "res2 = minimize(l2.cost, np.zeros(nb_degree))\n",
    "print 'minimize for poly', res2.x\n",
    "l2.set_w(res2.x)\n",
    "l2.drawlinepoly()\n",
    "\n",
    "overfitted_weight = res2.x\n",
    "\n",
    "######################\n",
    "plt.figure()\n",
    "plt.plot(x_train, y_train, 'mo')\n",
    "plt.plot(x_test, y_test, 'ro')\n",
    "plt.grid(True)\n",
    "l3 = LinearRegression(toNDegree(x_train,nb_degree), y_train)\n",
    "l3.set_lamb(0.001)\n",
    "res3 = minimize(l3.cost, np.zeros(nb_degree))\n",
    "print 'minimize for poly2', res3.x\n",
    "l3.set_w(res3.x)\n",
    "l3.drawlinepoly()"
   ]
  },
  {
   "cell_type": "markdown",
   "metadata": {
    "collapsed": false
   },
   "source": [
    "# Original Equation, MSE\n",
    "then we take derivative of L respect to W to find the influence of L on w vector  \n",
    "$$ L = \\frac{1}{2n}\\sum_{i=1}^n(w^Tx_i-y_i)^2+\\lambda\\sum_{i=1}^nw_i^2 \\\\ $$\n",
    "$$ \\frac{\\partial L}{\\partial wi}=0$$\n",
    "\n",
    "\n",
    "## There are 2 cases which we can work with $\\hat{y}$-$y$ &  $y$-$\\hat{y}$\n",
    "Why are we testing these twos, the equation arrangement is different when taking the derivative\n",
    ", but they yield the same result anyway\n",
    "\n",
    "### The equation that is $\\hat{y}$-$y$\n",
    "$$ L = \\frac{1}{2n}\\sum_{i=1}^n(w^Tx_i-y_i)^2+\\lambda\\sum_{i=1}^nw_i^2;\\frac{\\partial L}{\\partial wi}=0\\\\ $$\n",
    "$$\n",
    "\\begin{align}\n",
    "\\frac{2}{2n}\\sum_{i=1}^n(w^Tx_i-y_i)\\sum_{i=1}^n(x_i) + 2\\lambda\\sum_{i=1}^n(w_i) & = 0 \\\\\n",
    "\\frac{1}{n}\\sum_{i=1}^n(w^Tx_i-y_i)\\sum_{i=1}^n(x_i) & = -2\\lambda\\sum_{i=1}^n(w_i) \\\\\n",
    "\\frac{\\sum_{i=1}^n(w^Tx_i-y_i)\\sum_{i=1}^n(x_i)}{2n\\sum_{i=1}^n(w_i)} &= -\\lambda\n",
    "\\end{align}\n",
    "$$\n",
    "\n",
    "### The equation that is $y$-$\\hat{y}$\n",
    "\n",
    "$$ L = \\frac{1}{2n}\\sum_{i=1}^n(y_i-w^Tx_i)^2+\\lambda\\sum_{i=1}^nw_i^2;\\frac{\\partial L}{\\partial wi}=0\\\\ $$\n",
    "$$\n",
    "\\begin{align}\n",
    "-\\frac{2}{2n}\\sum_{i=1}^n(y_i-w^Tx_i)\\sum_{i=1}^n(x_i) + 2\\lambda\\sum_{i=1}^n(w_i) & = 0 \\\\\n",
    "-\\frac{1}{n}\\sum_{i=1}^n(y_i-w^Tx_i)\\sum_{i=1}^n(x_i) & = -2\\lambda\\sum_{i=1}^n(w_i) \\\\\n",
    "\\frac{\\sum_{i=1}^n(y_i-w^Tx_i)\\sum_{i=1}^n(x_i)}{2n\\sum_{i=1}^n(w_i)} &= \\lambda\n",
    "\\end{align}\n",
    "$$\n",
    "\n"
   ]
  },
  {
   "cell_type": "markdown",
   "metadata": {},
   "source": [
    "# Define solve_for_lambda function\n",
    "which is the function what does exactly the same as the above equation to find the lambda  \n",
    "However, there are 2 variations of them, you can adjust nicely according to the equation"
   ]
  },
  {
   "cell_type": "code",
   "execution_count": 8,
   "metadata": {
    "collapsed": false
   },
   "outputs": [],
   "source": [
    "def solve_for_lambda(x,y,w):   \n",
    "    sum_yreal_predict = 0.0\n",
    "    sum_px = 0.0\n",
    "    sum_w = 0.0\n",
    "    lamb = 0.0\n",
    "    ndata = len(x)\n",
    "    px = toPoly(x)\n",
    "    for i in xrange(ndata):\n",
    "        sum_yreal_predict += (np.dot(w, px[i]) - y[i])\n",
    "        sum_px += sum(px[i,:])\n",
    "    sum_yreal_predict *= sum_px\n",
    "    for i in xrange(len(w)):\n",
    "        sum_w += w[i]**2\n",
    "    sum_w *= 2*ndata\n",
    "    lamb = (sum_yreal_predict/sum_w)\n",
    "    return lamb if lamb > 0 else -1*lamb"
   ]
  },
  {
   "cell_type": "markdown",
   "metadata": {},
   "source": [
    "# Use the weight from the overfitting model to train with expected lambda in this model then plot"
   ]
  },
  {
   "cell_type": "code",
   "execution_count": 24,
   "metadata": {
    "collapsed": false
   },
   "outputs": [
    {
     "name": "stdout",
     "output_type": "stream",
     "text": [
      "expected_lambda 0.00125984024047\n"
     ]
    },
    {
     "data": {
      "image/png": "[encoded data removed]",
      "text/plain": [
       "<matplotlib.figure.Figure at 0xaa09908>"
      ]
     },
     "metadata": {},
     "output_type": "display_data"
    }
   ],
   "source": [
    "plt.figure()\n",
    "plt.plot(x_train, y_train, 'mo')\n",
    "plt.plot(x_test, y_test, 'ro')\n",
    "plt.grid(True)\n",
    "l4 = LinearRegression(toPoly(x_train), y_train)\n",
    "expected_lambda = solve_for_lambda(x_train,y_train, overfitted_weight)\n",
    "print \"expected_lambda\", expected_lambda\n",
    "l4.set_lamb(expected_lambda)\n",
    "res4 = minimize(l4.cost, [0, 0, 0, 0, 0, 0, 0])\n",
    "l4.set_w(res4.x)\n",
    "l4.drawlinepoly()"
   ]
  },
  {
   "cell_type": "markdown",
   "metadata": {},
   "source": [
    "# Futher compute another lambda using the weight from l4\n",
    "should not work as we expected"
   ]
  },
  {
   "cell_type": "code",
   "execution_count": 25,
   "metadata": {
    "collapsed": false
   },
   "outputs": [
    {
     "name": "stdout",
     "output_type": "stream",
     "text": [
      "expected_lambda 0.0019810600665\n"
     ]
    },
    {
     "data": {
      "image/png": "[encoded data removed]",
      "text/plain": [
       "<matplotlib.figure.Figure at 0x8eb8828>"
      ]
     },
     "metadata": {},
     "output_type": "display_data"
    }
   ],
   "source": [
    "plt.figure()\n",
    "plt.plot(x_train, y_train, 'mo')\n",
    "plt.plot(x_test, y_test, 'ro')\n",
    "plt.grid(True)\n",
    "l5 = LinearRegression(toPoly(x_train), y_train)\n",
    "expected_lambda = solve_for_lambda(x_train,y_train, res4.x)\n",
    "print \"expected_lambda\", expected_lambda\n",
    "l5.set_lamb(expected_lambda)\n",
    "res5 = minimize(l5.cost, [0, 0, 0, 0, 0, 0, 0])\n",
    "l5.set_w(res5.x)\n",
    "l5.drawlinepoly()"
   ]
  },
  {
   "cell_type": "code",
   "execution_count": 26,
   "metadata": {
    "collapsed": false
   },
   "outputs": [
    {
     "name": "stdout",
     "output_type": "stream",
     "text": [
      "mse_poly_overfitted 0.0171173939942\n",
      "mse_poly_001 0.00403855485403\n",
      "mse_poly_solve_lamb4 0.00586506985183\n",
      "mse_poly_solve_lamb5 0.0105286385589\n"
     ]
    }
   ],
   "source": [
    "x_test_poly = toPoly(x_test)\n",
    "def get_sum_mse(w):\n",
    "    return sum([(np.dot(w, x_test_poly[i]) - y_test[i])**2 for i in range(len(x_test))])\n",
    "\n",
    "print \"mse_poly_overfitted\", get_sum_mse(res2.x)\n",
    "print \"mse_poly_001\", get_sum_mse(res3.x)\n",
    "print \"mse_poly_solve_lamb4\", get_sum_mse(res4.x)\n",
    "print \"mse_poly_solve_lamb5\", get_sum_mse(res5.x)"
   ]
  }
 ],
 "metadata": {
  "kernelspec": {
   "display_name": "Python [Root]",
   "language": "python",
   "name": "Python [Root]"
  },
  "language_info": {
   "codemirror_mode": {
    "name": "ipython",
    "version": 2
   },
   "file_extension": ".py",
   "mimetype": "text/x-python",
   "name": "python",
   "nbconvert_exporter": "python",
   "pygments_lexer": "ipython2",
   "version": "2.7.11"
  }
 },
 "nbformat": 4,
 "nbformat_minor": 0
}
