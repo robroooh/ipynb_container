{
 "cells": [
  {
   "cell_type": "code",
   "execution_count": 1,
   "metadata": {
    "collapsed": true
   },
   "outputs": [],
   "source": [
    "import numpy as np"
   ]
  },
  {
   "cell_type": "markdown",
   "metadata": {},
   "source": [
    "## Element-wise Matrix Multiplication     \n",
    "\n",
    "  \n",
    "$A = \\begin{bmatrix}1 & 2 & 3\\\\4 & 5 & 6\\\\7 & 8 & 9\\end{bmatrix}$\n",
    "$B = \\begin{bmatrix}1 & 2 & 3\\\\4 & 5 & 6\\\\7 & 8 & 9\\end{bmatrix}$\n",
    "\n",
    "#### Expected output\n",
    "$A*B = \\begin{bmatrix}1 & 4 & 9\\\\16 & 25 & 36\\\\49 & 64 & 81\\end{bmatrix}$"
   ]
  },
  {
   "cell_type": "code",
   "execution_count": 33,
   "metadata": {
    "collapsed": false
   },
   "outputs": [
    {
     "name": "stdout",
     "output_type": "stream",
     "text": [
      "True\n",
      "True\n",
      "True\n",
      "True\n"
     ]
    }
   ],
   "source": [
    "# Initiate 2 Identical arrays A,B\n",
    "A = np.array([[1,2,3],\n",
    "              [4,5,6],\n",
    "              [7,8,9]])\n",
    "B = np.array([[1,2,3],\n",
    "              [4,5,6],\n",
    "              [7,8,9]])\n",
    "\n",
    "# Initiate the expected Output\n",
    "C = np.array([[1,4,9],\n",
    "              [16,25,36],\n",
    "              [49,64,81]])\n",
    "\n",
    "# Element-wise matrix multiplication\n",
    "AB = A*B\n",
    "\n",
    "# Method checking for Equity of matrices\n",
    "print((AB==C).all())\n",
    "print(np.array_equiv(AB,C))\n",
    "print(np.array_equal(AB,C))\n",
    "print(np.allclose(AB,C))"
   ]
  }
 ],
 "metadata": {
  "kernelspec": {
   "display_name": "Python 3",
   "language": "python",
   "name": "python3"
  },
  "language_info": {
   "codemirror_mode": {
    "name": "ipython",
    "version": 3
   },
   "file_extension": ".py",
   "mimetype": "text/x-python",
   "name": "python",
   "nbconvert_exporter": "python",
   "pygments_lexer": "ipython3",
   "version": "3.5.1"
  }
 },
 "nbformat": 4,
 "nbformat_minor": 0
}
