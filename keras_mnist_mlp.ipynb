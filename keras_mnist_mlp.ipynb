{
 "cells": [
  {
   "cell_type": "code",
   "execution_count": 21,
   "metadata": {
    "collapsed": false,
    "scrolled": true
   },
   "outputs": [
    {
     "name": "stdout",
     "output_type": "stream",
     "text": [
      "1000 train samples\n",
      "10000 test samples\n",
      "____________________________________________________________________________________________________\n",
      "Layer (type)                     Output Shape          Param #     Connected to                     \n",
      "====================================================================================================\n",
      "dense_52 (Dense)                 (None, 512)           401920      dense_input_18[0][0]             \n",
      "____________________________________________________________________________________________________\n",
      "activation_52 (Activation)       (None, 512)           0           dense_52[0][0]                   \n",
      "____________________________________________________________________________________________________\n",
      "dense_53 (Dense)                 (None, 512)           262656      activation_52[0][0]              \n",
      "____________________________________________________________________________________________________\n",
      "activation_53 (Activation)       (None, 512)           0           dense_53[0][0]                   \n",
      "____________________________________________________________________________________________________\n",
      "dense_54 (Dense)                 (None, 10)            5130        activation_53[0][0]              \n",
      "____________________________________________________________________________________________________\n",
      "activation_54 (Activation)       (None, 10)            0           dense_54[0][0]                   \n",
      "====================================================================================================\n",
      "Total params: 669706\n",
      "____________________________________________________________________________________________________\n",
      "Test score: 0.0179820289901\n",
      "Test accuracy: 0.8806\n",
      "Train score: 0.00241962236166\n",
      "Train accuracy: 0.988\n"
     ]
    }
   ],
   "source": [
    "'''Trains a simple deep NN on the MNIST dataset.\n",
    "\n",
    "Gets to 98.40% test accuracy after 20 epochs\n",
    "(there is *a lot* of margin for parameter tuning).\n",
    "2 seconds per epoch on a K520 GPU.\n",
    "'''\n",
    "\n",
    "from __future__ import print_function\n",
    "import numpy as np\n",
    "np.random.seed(1337)  # for reproducibility\n",
    "\n",
    "from keras.datasets import mnist\n",
    "from keras.models import Sequential\n",
    "from keras.layers.core import Dense, Dropout, Activation\n",
    "from keras.optimizers import SGD, Adam, RMSprop\n",
    "from keras.utils import np_utils\n",
    "from keras.regularizers import l2, activity_l2\n",
    "\n",
    "\n",
    "batch_size = 512\n",
    "nb_classes = 10\n",
    "nb_epoch = 400\n",
    "\n",
    "# the data, shuffled and split between train and test sets\n",
    "(X_train, y_train), (X_test, y_test) = mnist.load_data()\n",
    "\n",
    "X_train = X_train.reshape(60000, 784)\n",
    "X_test = X_test.reshape(10000, 784)\n",
    "\n",
    "X_train_10000 = X_train[:1000]\n",
    "X_test_10000 = X_test[:10000]\n",
    "\n",
    "X_train_10000 = X_train_10000.astype('float32')\n",
    "X_test_10000 = X_test_10000.astype('float32')\n",
    "X_train_10000 /= 255\n",
    "X_test_10000 /= 255\n",
    "\n",
    "\n",
    "X_train = X_train.astype('float32')\n",
    "X_test = X_test.astype('float32')\n",
    "X_train /= 255\n",
    "X_test /= 255\n",
    "\n",
    "print(X_train_10000.shape[0], 'train samples')\n",
    "print(X_test_10000.shape[0], 'test samples')\n",
    "\n",
    "# convert class vectors to binary class matrices\n",
    "Y_train = np_utils.to_categorical(y_train[:1000], nb_classes)\n",
    "Y_test = np_utils.to_categorical(y_test[:10000], nb_classes)\n",
    "\n",
    "FC0 = Dense(512, W_regularizer=l2(0), input_shape=(784,))\n",
    "FC1 = Dense(512)\n",
    "FC2 = Dense(10)\n",
    "\n",
    "model = Sequential()\n",
    "model.add(FC0)\n",
    "model.add(Activation('relu'))\n",
    "model.add(FC1)\n",
    "model.add(Activation('relu'))\n",
    "model.add(FC2)\n",
    "model.add(Activation('softmax'))\n",
    "\n",
    "model.summary()\n",
    "\n",
    "model.compile(loss='mse',\n",
    "              optimizer='adadelta',\n",
    "              metrics=['accuracy'])\n",
    "\n",
    "history = model.fit(X_train_10000, Y_train,\n",
    "                    batch_size=batch_size, nb_epoch=nb_epoch,\n",
    "                    verbose=0, validation_data=(X_test_10000, Y_test))\n",
    "score = model.evaluate(X_test_10000, Y_test, verbose=0)\n",
    "print('Test score:', score[0])\n",
    "print('Test accuracy:', score[1])\n",
    "\n",
    "score = model.evaluate(X_train_10000, Y_train, verbose=0)\n",
    "print('Train score:', score[0])\n",
    "print('Train accuracy:', score[1])"
   ]
  },
  {
   "cell_type": "markdown",
   "metadata": {},
   "source": [
    "# Methodology\n",
    " 1. Train the mlp network setting l2 = 0, get the LOSS\n",
    " 2. Save the weight \n",
    " 3. Alter one of the particular weight\n",
    " 4. load the weight back into the network\n",
    " 5. feed input and set training = false\n",
    " 6. get $ \\frac{\\delta L}{\\delta wij} $\n",
    " 7. calculate $ \\lambda = -\\frac{1}{2}\\frac{1}{\\sum_j^{nw}\\sum_i^{nw} W_ij} $\n",
    " 8. use the lambda in reg. and measure the accuracy b4 and after"
   ]
  },
  {
   "cell_type": "markdown",
   "metadata": {},
   "source": [
    "## Recording result\n",
    "\n",
    "### 3 Layers 512 512 10 l2 on the last layer only\n",
    " - epoch=3, l2=0, acc=0.9734,0.9734\n",
    " - epoch=3, l2=100, acc=0.9657,0.9657\n",
    " \n",
    "### 2 Layers 512 10 l2 on the first layer\n",
    " - epoch=3, l2=100, acc= 0.9631\n",
    " - epoch=3, l2=0, acc= 0.9636\n",
    " - epoch=3, l2=0.00001, acc= 0.9638\n",
    " \n",
    "### 2 Layers 4096 10 L2 on the first layer\n",
    " - ep=3, l2 = 0.00001, Test accuracy: 0.9748\n",
    " - ep=3, l2 = 10000, Test accuracy: 0.9597, 0.9597"
   ]
  },
  {
   "cell_type": "code",
   "execution_count": 23,
   "metadata": {
    "collapsed": false
   },
   "outputs": [],
   "source": [
    "l0_w = model.layers[0].get_weights()\n",
    "l2_w = model.layers[2].get_weights()\n",
    "l4_w = model.layers[4].get_weights()\n",
    "\n",
    "l0_ww = l0_w[0]"
   ]
  },
  {
   "cell_type": "code",
   "execution_count": 30,
   "metadata": {
    "collapsed": false
   },
   "outputs": [
    {
     "name": "stdout",
     "output_type": "stream",
     "text": [
      "(784, 512)\n"
     ]
    }
   ],
   "source": [
    "print (l0_ww.shape)\n",
    "l0_ww[0].shape\n",
    "l0_w[0][0] = [0]*512"
   ]
  },
  {
   "cell_type": "code",
   "execution_count": null,
   "metadata": {
    "collapsed": true
   },
   "outputs": [],
   "source": [
    "model.load_weights('my_model_weights.h5')"
   ]
  },
  {
   "cell_type": "code",
   "execution_count": 33,
   "metadata": {
    "collapsed": false
   },
   "outputs": [
    {
     "name": "stdout",
     "output_type": "stream",
     "text": [
      "____________________________________________________________________________________________________\n",
      "Layer (type)                     Output Shape          Param #     Connected to                     \n",
      "====================================================================================================\n",
      "dense_58 (Dense)                 (None, 512)           401920      dense_input_20[0][0]             \n",
      "____________________________________________________________________________________________________\n",
      "activation_58 (Activation)       (None, 512)           0           dense_58[0][0]                   \n",
      "____________________________________________________________________________________________________\n",
      "dense_59 (Dense)                 (None, 512)           262656      activation_58[0][0]              \n",
      "____________________________________________________________________________________________________\n",
      "activation_59 (Activation)       (None, 512)           0           dense_59[0][0]                   \n",
      "____________________________________________________________________________________________________\n",
      "dense_60 (Dense)                 (None, 10)            5130        activation_59[0][0]              \n",
      "____________________________________________________________________________________________________\n",
      "activation_60 (Activation)       (None, 10)            0           dense_60[0][0]                   \n",
      "====================================================================================================\n",
      "Total params: 669706\n",
      "____________________________________________________________________________________________________\n"
     ]
    }
   ],
   "source": [
    "FC0 = Dense(512, W_regularizer=l2(0), input_shape=(784,), trainable=False)\n",
    "FC1 = Dense(512, trainable=False)\n",
    "FC2 = Dense(10, trainable=False)\n",
    "\n",
    "model = Sequential()\n",
    "model.add(FC0)\n",
    "model.add(Activation('relu'))\n",
    "model.add(FC1)\n",
    "model.add(Activation('relu'))\n",
    "model.add(FC2)\n",
    "model.add(Activation('softmax'))\n",
    "\n",
    "model.layers[0].set_weights(l0_w)\n",
    "model.layers[2].set_weights(l2_w)\n",
    "model.layers[4].set_weights(l4_w)\n",
    "\n",
    "model.summary()\n",
    "\n",
    "model.compile(loss='mse',\n",
    "              optimizer='adadelta',\n",
    "              metrics=['accuracy'])"
   ]
  },
  {
   "cell_type": "code",
   "execution_count": 34,
   "metadata": {
    "collapsed": false
   },
   "outputs": [
    {
     "name": "stdout",
     "output_type": "stream",
     "text": [
      "Test score: 0.0179820289901\n",
      "Test accuracy: 0.8806\n",
      "Train score: 0.00241962236166\n",
      "Train accuracy: 0.988\n"
     ]
    }
   ],
   "source": [
    "history = model.fit(X_train_10000, Y_train,\n",
    "                    batch_size=batch_size, nb_epoch=nb_epoch,\n",
    "                    verbose=0, validation_data=(X_test_10000, Y_test))\n",
    "\n",
    "score = model.evaluate(X_test_10000, Y_test, verbose=0)\n",
    "print('Test score:', score[0])\n",
    "print('Test accuracy:', score[1])\n",
    "\n",
    "score = model.evaluate(X_train_10000, Y_train, verbose=0)\n",
    "print('Train score:', score[0])\n",
    "print('Train accuracy:', score[1])"
   ]
  }
 ],
 "metadata": {
  "kernelspec": {
   "display_name": "Python 2",
   "language": "python",
   "name": "python2"
  },
  "language_info": {
   "codemirror_mode": {
    "name": "ipython",
    "version": 2
   },
   "file_extension": ".py",
   "mimetype": "text/x-python",
   "name": "python",
   "nbconvert_exporter": "python",
   "pygments_lexer": "ipython2",
   "version": "2.7.6"
  }
 },
 "nbformat": 4,
 "nbformat_minor": 0
}
