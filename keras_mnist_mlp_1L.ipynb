{
 "cells": [
  {
   "cell_type": "code",
   "execution_count": 75,
   "metadata": {
    "collapsed": true
   },
   "outputs": [],
   "source": [
    "%matplotlib inline\n",
    "\n",
    "import numpy as np\n",
    "from scipy import misc\n",
    "import matplotlib.pyplot as plt\n",
    "from scipy import ndimage\n",
    "import cmath\n",
    "import math\n",
    "import Image\n",
    "from keras.datasets import mnist\n",
    "\n",
    "\n",
    "def resize(input_im):\n",
    "    im = Image.fromarray(input_im)\n",
    "    im = im.resize([10,10], Image.ANTIALIAS)\n",
    "    rz_im = np.asarray((im.getdata()))\n",
    "    return np.reshape(rz_im, (10,10))\n",
    "\n",
    "def getXsvd(imgmat,k):\n",
    "    U, sigma, V = np.linalg.svd(imgmat)\n",
    "    reconstimg = np.matrix(U[:, :k]) * np.diag(sigma[:k]) * np.matrix(V[:k, :])\n",
    "    plt.imshow(reconstimg, cmap='gray')\n",
    "    return reconstimg\n",
    "    \n",
    "def getX_10():    \n",
    "    X_10_train = np.zeros((60000,10,10))\n",
    "    X_10_test =  np.zeros((10000,10,10))\n",
    "    (X_train, _), (X_test, _) = mnist.load_data()\n",
    "    for i in range(X_train.shape[0]):\n",
    "        X_10_train[i,:,:] = resize(X_train[i])\n",
    "    for i in range(X_test.shape[0]):\n",
    "        X_10_test[i,:,:] = resize(X_test[i])\n",
    "    return X_10_train,X_10_test"
   ]
  },
  {
   "cell_type": "code",
   "execution_count": 77,
   "metadata": {
    "collapsed": false
   },
   "outputs": [
    {
     "data": {
      "text/plain": [
       "(28, 28)"
      ]
     },
     "execution_count": 77,
     "metadata": {},
     "output_type": "execute_result"
    },
    {
     "data": {
      "image/png": "[encoded data removed]",
      "text/plain": [
       "<matplotlib.figure.Figure at 0x7fd8967fd050>"
      ]
     },
     "metadata": {},
     "output_type": "display_data"
    }
   ],
   "source": [
    "(X_train, _), (_, _) = mnist.load_data()\n",
    "im_svd = getXsvd(X_train[0],5)\n",
    "im_svd.shape"
   ]
  },
  {
   "cell_type": "code",
   "execution_count": 95,
   "metadata": {
    "collapsed": false
   },
   "outputs": [
    {
     "name": "stdout",
     "output_type": "stream",
     "text": [
      "____________________________________________________________________________________________________\n",
      "Layer (type)                     Output Shape          Param #     Connected to                     \n",
      "====================================================================================================\n",
      "dense_77 (Dense)                 (None, 512)           51712       dense_input_27[0][0]             \n",
      "____________________________________________________________________________________________________\n",
      "activation_64 (Activation)       (None, 512)           0           dense_77[0][0]                   \n",
      "____________________________________________________________________________________________________\n",
      "dense_78 (Dense)                 (None, 512)           262656      activation_64[0][0]              \n",
      "____________________________________________________________________________________________________\n",
      "activation_65 (Activation)       (None, 512)           0           dense_78[0][0]                   \n",
      "____________________________________________________________________________________________________\n",
      "dense_79 (Dense)                 (None, 10)            5130        activation_65[0][0]              \n",
      "____________________________________________________________________________________________________\n",
      "activation_66 (Activation)       (None, 10)            0           dense_79[0][0]                   \n",
      "====================================================================================================\n",
      "Total params: 319498\n",
      "____________________________________________________________________________________________________\n",
      "Test score: 0.0162936199699\n",
      "Test accuracy: 0.9029\n",
      "Train score: 0.0170332180959\n",
      "Train accuracy: 0.898266666667\n"
     ]
    }
   ],
   "source": [
    "from __future__ import print_function\n",
    "import numpy as np\n",
    "import random\n",
    "np.random.seed(1337)  # for reproducibility\n",
    "\n",
    "from keras.datasets import mnist\n",
    "from keras.models import Sequential\n",
    "from keras.layers.core import Dense, Dropout, Activation\n",
    "from keras.optimizers import SGD, Adam, RMSprop\n",
    "from keras.utils import np_utils\n",
    "from keras.regularizers import l2, activity_l2\n",
    "\n",
    "\n",
    "batch_size = 512\n",
    "nb_classes = 10\n",
    "nb_epoch = 12\n",
    "\n",
    "# the data, shuffled and split between train and test sets\n",
    "(X_train, y_train), (X_test, y_test) = mnist.load_data()\n",
    "X_10_train, X_10_test = getX_10()\n",
    "\n",
    "X_10_train = X_10_train.reshape(60000, 100)\n",
    "X_10_test = X_10_test.reshape(10000, 100)\n",
    "\n",
    "X_train = X_train.reshape(60000, 784)\n",
    "X_test = X_test.reshape(10000, 784)\n",
    "\n",
    "X_train = X_train.astype('float32')\n",
    "X_test = X_test.astype('float32')\n",
    "X_train /= 255\n",
    "X_test /= 255\n",
    "\n",
    "X_10_train = X_10_train.astype('float32')\n",
    "X_10_test = X_10_test.astype('float32')\n",
    "X_10_train /= 255\n",
    "X_10_test /= 255\n",
    "\n",
    "# convert class vectors to binary class matrices\n",
    "Y_train = np_utils.to_categorical(y_train, nb_classes)\n",
    "Y_test = np_utils.to_categorical(y_test, nb_classes)\n",
    "\n",
    "FC0 = Dense(512, W_regularizer=l2(0), input_shape=(100,))\n",
    "FC1 = Dense(512)\n",
    "FC2 = Dense(10)\n",
    "\n",
    "model = Sequential()\n",
    "model.add(FC0)\n",
    "model.add(Activation('relu'))\n",
    "model.add(FC1)\n",
    "model.add(Activation('relu'))\n",
    "model.add(FC2)\n",
    "model.add(Activation('softmax'))\n",
    "model.summary()\n",
    "\n",
    "model.compile(loss='mse',\n",
    "              optimizer='adadelta',\n",
    "              metrics=['accuracy'])\n",
    "\n",
    "history = model.fit(X_10_train[:30000], Y_train[:30000],\n",
    "                    batch_size=batch_size, nb_epoch=nb_epoch,\n",
    "                    verbose=0, validation_data=(X_10_test, Y_test))\n",
    "\n",
    "score = model.evaluate(X_10_test, Y_test, verbose=0)\n",
    "print('Test score:', score[0])\n",
    "print('Test accuracy:', score[1])\n",
    "\n",
    "score = model.evaluate(X_10_train[:30000], Y_train[:30000], verbose=0)\n",
    "print('Train score:', score[0])\n",
    "print('Train accuracy:', score[1])"
   ]
  },
  {
   "cell_type": "code",
   "execution_count": 96,
   "metadata": {
    "collapsed": false
   },
   "outputs": [
    {
     "name": "stdout",
     "output_type": "stream",
     "text": [
      "Train score: 0.0149799853823\n",
      "Train accuracy: 0.905916666667\n",
      "Test score: 0.0141574536461\n",
      "Test accuracy: 0.912\n"
     ]
    }
   ],
   "source": [
    "history = model.fit(X_10_train, Y_train,\n",
    "                    batch_size=batch_size*5, nb_epoch=nb_epoch,\n",
    "                    verbose=0, validation_data=(X_10_test, Y_test))\n",
    "\n",
    "score = model.evaluate(X_10_train, Y_train, verbose=0)\n",
    "print('Train score:', score[0])\n",
    "print('Train accuracy:', score[1])\n",
    "\n",
    "score = model.evaluate(X_10_test, Y_test, verbose=0)\n",
    "print('Test score:', score[0])\n",
    "print('Test accuracy:', score[1])"
   ]
  },
  {
   "cell_type": "markdown",
   "metadata": {},
   "source": [
    "# For making it works with conv lay"
   ]
  },
  {
   "cell_type": "code",
   "execution_count": 101,
   "metadata": {
    "collapsed": false
   },
   "outputs": [
    {
     "name": "stdout",
     "output_type": "stream",
     "text": [
      "____________________________________________________________________________________________________\n",
      "Layer (type)                     Output Shape          Param #     Connected to                     \n",
      "====================================================================================================\n",
      "convolution2d_4 (Convolution2D)  (None, 1, 14, 14)     226         convolution2d_input_4[0][0]      \n",
      "____________________________________________________________________________________________________\n",
      "activation_72 (Activation)       (None, 1, 14, 14)     0           convolution2d_4[0][0]            \n",
      "____________________________________________________________________________________________________\n",
      "flatten_2 (Flatten)              (None, 196)           0           activation_72[0][0]              \n",
      "____________________________________________________________________________________________________\n",
      "dense_86 (Dense)                 (None, 512)           100864      flatten_2[0][0]                  \n",
      "____________________________________________________________________________________________________\n",
      "activation_73 (Activation)       (None, 512)           0           dense_86[0][0]                   \n",
      "____________________________________________________________________________________________________\n",
      "dense_87 (Dense)                 (None, 10)            5130        activation_73[0][0]              \n",
      "____________________________________________________________________________________________________\n",
      "activation_74 (Activation)       (None, 10)            0           dense_87[0][0]                   \n",
      "====================================================================================================\n",
      "Total params: 106220\n",
      "____________________________________________________________________________________________________\n",
      "Train on 60000 samples, validate on 10000 samples\n",
      "Epoch 1/12\n",
      "60000/60000 [==============================] - 21s - loss: 0.0568 - acc: 0.5517 - val_loss: 0.0264 - val_acc: 0.8269\n",
      "Epoch 2/12\n",
      "60000/60000 [==============================] - 19s - loss: 0.0225 - acc: 0.8507 - val_loss: 0.0194 - val_acc: 0.8714\n",
      "Epoch 3/12\n",
      "60000/60000 [==============================] - 20s - loss: 0.0169 - acc: 0.8899 - val_loss: 0.0151 - val_acc: 0.9044\n",
      "Epoch 4/12\n",
      "60000/60000 [==============================] - 18s - loss: 0.0144 - acc: 0.9064 - val_loss: 0.0175 - val_acc: 0.8791\n",
      "Epoch 5/12\n",
      "60000/60000 [==============================] - 21s - loss: 0.0126 - acc: 0.9181 - val_loss: 0.0123 - val_acc: 0.9191\n",
      "Epoch 6/12\n",
      "60000/60000 [==============================] - 28s - loss: 0.0113 - acc: 0.9282 - val_loss: 0.0147 - val_acc: 0.9011\n",
      "Epoch 7/12\n",
      "60000/60000 [==============================] - 19s - loss: 0.0104 - acc: 0.9339 - val_loss: 0.0125 - val_acc: 0.9202\n",
      "Epoch 8/12\n",
      "60000/60000 [==============================] - 19s - loss: 0.0095 - acc: 0.9384 - val_loss: 0.0119 - val_acc: 0.9253\n",
      "Epoch 9/12\n",
      "60000/60000 [==============================] - 24s - loss: 0.0089 - acc: 0.9445 - val_loss: 0.0092 - val_acc: 0.9426\n",
      "Epoch 10/12\n",
      "60000/60000 [==============================] - 19s - loss: 0.0083 - acc: 0.9474 - val_loss: 0.0084 - val_acc: 0.9466\n",
      "Epoch 11/12\n",
      "60000/60000 [==============================] - 26s - loss: 0.0079 - acc: 0.9499 - val_loss: 0.0083 - val_acc: 0.9485\n",
      "Epoch 12/12\n",
      "60000/60000 [==============================] - 22s - loss: 0.0074 - acc: 0.9531 - val_loss: 0.0082 - val_acc: 0.9462\n",
      "Test score: 0.00824591473457\n",
      "Test accuracy: 0.9462\n",
      "Train score: 0.00843456721978\n",
      "Train accuracy: 0.946333333333\n"
     ]
    }
   ],
   "source": [
    "from __future__ import print_function\n",
    "import numpy as np\n",
    "import random\n",
    "np.random.seed(1337)  # for reproducibility\n",
    "\n",
    "from keras.datasets import mnist\n",
    "from keras.models import Sequential\n",
    "from keras.layers.core import Dense, Dropout, Activation\n",
    "from keras.optimizers import SGD, Adam, RMSprop\n",
    "from keras.utils import np_utils\n",
    "from keras.regularizers import l2, activity_l2\n",
    "from keras.layers import Convolution2D, MaxPooling2D\n",
    "from keras.layers import Dense, Dropout, Activation, Flatten\n",
    "\n",
    "\n",
    "batch_size = 512\n",
    "nb_classes = 10\n",
    "nb_epoch = 12\n",
    "\n",
    "# the data, shuffled and split between train and test sets\n",
    "(X_train, y_train), (X_test, y_test) = mnist.load_data()\n",
    "X_10_train, X_10_test = getX_10()\n",
    "\n",
    "X_10_train = X_10_train.reshape(60000, 100)\n",
    "X_10_test = X_10_test.reshape(10000, 100)\n",
    "# X_train = X_train.reshape(60000, 784)\n",
    "# X_test = X_test.reshape(10000, 784)\n",
    "\n",
    "img_rows, img_cols = 28,28\n",
    "X_train = X_train.reshape(X_train.shape[0], 1, img_rows, img_cols)\n",
    "X_test = X_test.reshape(X_test.shape[0], 1, img_rows, img_cols)\n",
    "\n",
    "\n",
    "X_train = X_train.astype('float32')\n",
    "X_test = X_test.astype('float32')\n",
    "X_train /= 255\n",
    "X_test /= 255\n",
    "\n",
    "X_10_train = X_10_train.astype('float32')\n",
    "X_10_test = X_10_test.astype('float32')\n",
    "X_10_train /= 255\n",
    "X_10_test /= 255\n",
    "\n",
    "# convert class vectors to binary class matrices\n",
    "Y_train = np_utils.to_categorical(y_train, nb_classes)\n",
    "Y_test = np_utils.to_categorical(y_test, nb_classes)\n",
    "\n",
    "\n",
    "nb_filters = 1\n",
    "nb_conv = 15\n",
    "FC0 = Convolution2D(nb_filters, nb_conv, nb_conv,\n",
    "                        border_mode='valid',\n",
    "                        input_shape=(1, 28, 28))\n",
    "FC1 = Dense(512)\n",
    "FC2 = Dense(10)\n",
    "\n",
    "model = Sequential()\n",
    "model.add(FC0)\n",
    "model.add(Activation('relu'))\n",
    "model.add(Flatten())\n",
    "model.add(FC1)\n",
    "model.add(Activation('relu'))\n",
    "model.add(FC2)\n",
    "model.add(Activation('softmax'))\n",
    "model.summary()\n",
    "\n",
    "model.compile(loss='mse',\n",
    "              optimizer='adadelta',\n",
    "              metrics=['accuracy'])\n",
    "\n",
    "history = model.fit(X_train, Y_train,\n",
    "                    batch_size=batch_size, nb_epoch=nb_epoch,\n",
    "                    verbose=1, validation_data=(X_test, Y_test))\n",
    "\n",
    "score = model.evaluate(X_test, Y_test, verbose=0)\n",
    "print('Test score:', score[0])\n",
    "print('Test accuracy:', score[1])\n",
    "\n",
    "score = model.evaluate(X_train, Y_train, verbose=0)\n",
    "print('Train score:', score[0])\n",
    "print('Train accuracy:', score[1])"
   ]
  },
  {
   "cell_type": "markdown",
   "metadata": {},
   "source": [
    "# Train again for other 60 epochs"
   ]
  },
  {
   "cell_type": "code",
   "execution_count": 102,
   "metadata": {
    "collapsed": false
   },
   "outputs": [
    {
     "name": "stdout",
     "output_type": "stream",
     "text": [
      "Train on 60000 samples, validate on 10000 samples\n",
      "Epoch 1/60\n",
      "60000/60000 [==============================] - 19s - loss: 0.0071 - acc: 0.9551 - val_loss: 0.0088 - val_acc: 0.9413\n",
      "Epoch 2/60\n",
      "60000/60000 [==============================] - 23s - loss: 0.0068 - acc: 0.9573 - val_loss: 0.0072 - val_acc: 0.9544\n",
      "Epoch 3/60\n",
      "60000/60000 [==============================] - 19s - loss: 0.0065 - acc: 0.9583 - val_loss: 0.0070 - val_acc: 0.9569\n",
      "Epoch 4/60\n",
      "60000/60000 [==============================] - 19s - loss: 0.0062 - acc: 0.9613 - val_loss: 0.0083 - val_acc: 0.9464\n",
      "Epoch 5/60\n",
      "60000/60000 [==============================] - 26s - loss: 0.0059 - acc: 0.9624 - val_loss: 0.0062 - val_acc: 0.9608\n",
      "Epoch 6/60\n",
      "60000/60000 [==============================] - 21s - loss: 0.0058 - acc: 0.9635 - val_loss: 0.0072 - val_acc: 0.9533\n",
      "Epoch 7/60\n",
      "60000/60000 [==============================] - 23s - loss: 0.0055 - acc: 0.9653 - val_loss: 0.0073 - val_acc: 0.9544\n",
      "Epoch 8/60\n",
      "60000/60000 [==============================] - 19s - loss: 0.0054 - acc: 0.9658 - val_loss: 0.0055 - val_acc: 0.9643\n",
      "Epoch 9/60\n",
      "60000/60000 [==============================] - 21s - loss: 0.0052 - acc: 0.9674 - val_loss: 0.0089 - val_acc: 0.9430\n",
      "Epoch 10/60\n",
      "60000/60000 [==============================] - 20s - loss: 0.0050 - acc: 0.9688 - val_loss: 0.0053 - val_acc: 0.9659\n",
      "Epoch 11/60\n",
      "60000/60000 [==============================] - 19s - loss: 0.0050 - acc: 0.9690 - val_loss: 0.0096 - val_acc: 0.9360\n",
      "Epoch 12/60\n",
      "60000/60000 [==============================] - 24s - loss: 0.0048 - acc: 0.9699 - val_loss: 0.0055 - val_acc: 0.9633\n",
      "Epoch 13/60\n",
      "60000/60000 [==============================] - 23s - loss: 0.0046 - acc: 0.9709 - val_loss: 0.0061 - val_acc: 0.9605\n",
      "Epoch 14/60\n",
      "60000/60000 [==============================] - 22s - loss: 0.0045 - acc: 0.9722 - val_loss: 0.0071 - val_acc: 0.9522\n",
      "Epoch 15/60\n",
      "60000/60000 [==============================] - 30s - loss: 0.0045 - acc: 0.9725 - val_loss: 0.0054 - val_acc: 0.9647\n",
      "Epoch 16/60\n",
      "60000/60000 [==============================] - 28s - loss: 0.0043 - acc: 0.9733 - val_loss: 0.0083 - val_acc: 0.9447\n",
      "Epoch 17/60\n",
      "60000/60000 [==============================] - 19s - loss: 0.0042 - acc: 0.9743 - val_loss: 0.0058 - val_acc: 0.9629\n",
      "Epoch 18/60\n",
      "60000/60000 [==============================] - 19s - loss: 0.0042 - acc: 0.9742 - val_loss: 0.0047 - val_acc: 0.9699\n",
      "Epoch 19/60\n",
      "60000/60000 [==============================] - 20s - loss: 0.0040 - acc: 0.9755 - val_loss: 0.0048 - val_acc: 0.9690\n",
      "Epoch 20/60\n",
      "60000/60000 [==============================] - 23s - loss: 0.0039 - acc: 0.9759 - val_loss: 0.0046 - val_acc: 0.9711\n",
      "Epoch 21/60\n",
      "60000/60000 [==============================] - 21s - loss: 0.0039 - acc: 0.9756 - val_loss: 0.0082 - val_acc: 0.9460\n",
      "Epoch 22/60\n",
      "60000/60000 [==============================] - 22s - loss: 0.0038 - acc: 0.9772 - val_loss: 0.0053 - val_acc: 0.9666\n",
      "Epoch 23/60\n",
      "60000/60000 [==============================] - 23s - loss: 0.0037 - acc: 0.9778 - val_loss: 0.0044 - val_acc: 0.9707\n",
      "Epoch 24/60\n",
      "60000/60000 [==============================] - 19s - loss: 0.0036 - acc: 0.9782 - val_loss: 0.0048 - val_acc: 0.9674\n",
      "Epoch 25/60\n",
      "60000/60000 [==============================] - 24s - loss: 0.0036 - acc: 0.9784 - val_loss: 0.0062 - val_acc: 0.9604\n",
      "Epoch 26/60\n",
      "60000/60000 [==============================] - 23s - loss: 0.0036 - acc: 0.9782 - val_loss: 0.0046 - val_acc: 0.9695\n",
      "Epoch 27/60\n",
      "60000/60000 [==============================] - 20s - loss: 0.0034 - acc: 0.9794 - val_loss: 0.0054 - val_acc: 0.9638\n",
      "Epoch 28/60\n",
      "60000/60000 [==============================] - 19s - loss: 0.0034 - acc: 0.9798 - val_loss: 0.0056 - val_acc: 0.9631\n",
      "Epoch 29/60\n",
      "60000/60000 [==============================] - 32s - loss: 0.0033 - acc: 0.9795 - val_loss: 0.0059 - val_acc: 0.9627\n",
      "Epoch 30/60\n",
      "60000/60000 [==============================] - 29s - loss: 0.0033 - acc: 0.9808 - val_loss: 0.0071 - val_acc: 0.9530\n",
      "Epoch 31/60\n",
      "60000/60000 [==============================] - 31s - loss: 0.0032 - acc: 0.9812 - val_loss: 0.0041 - val_acc: 0.9735\n",
      "Epoch 32/60\n",
      " 7168/60000 [==>...........................] - ETA: 21s - loss: 0.0035 - acc: 0.9787\b\b\b\b\b\b\b\b\b\b\b\b\b\b\b\b\b\b\b\b\b\b\b\b\b\b\b\b\b\b\b\b\b\b\b\b\b\b\b\b\b\b\b\b\b\b\b\b\b\b\b\b\b\b\b\b\b\b\b\b\b\b\b\b\b\b\b\b\b\b\b\b\b\b\b\b\b\b\b\b\b\b\b\b"
     ]
    },
    {
     "ename": "ValueError",
     "evalue": "I/O operation on closed file",
     "output_type": "error",
     "traceback": [
      "\u001b[0;31m\u001b[0m",
      "\u001b[0;31mValueError\u001b[0mTraceback (most recent call last)",
      "\u001b[0;32m<ipython-input-102-63a1efdc69dc>\u001b[0m in \u001b[0;36m<module>\u001b[0;34m()\u001b[0m\n\u001b[1;32m      1\u001b[0m history = model.fit(X_train, Y_train,\n\u001b[1;32m      2\u001b[0m                     \u001b[0mbatch_size\u001b[0m\u001b[0;34m=\u001b[0m\u001b[0mbatch_size\u001b[0m\u001b[0;34m,\u001b[0m \u001b[0mnb_epoch\u001b[0m\u001b[0;34m=\u001b[0m\u001b[0mnb_epoch\u001b[0m\u001b[0;34m*\u001b[0m\u001b[0;36m5\u001b[0m\u001b[0;34m,\u001b[0m\u001b[0;34m\u001b[0m\u001b[0m\n\u001b[0;32m----> 3\u001b[0;31m                     verbose=1, validation_data=(X_test, Y_test))\n\u001b[0m\u001b[1;32m      4\u001b[0m \u001b[0;34m\u001b[0m\u001b[0m\n\u001b[1;32m      5\u001b[0m \u001b[0mscore\u001b[0m \u001b[0;34m=\u001b[0m \u001b[0mmodel\u001b[0m\u001b[0;34m.\u001b[0m\u001b[0mevaluate\u001b[0m\u001b[0;34m(\u001b[0m\u001b[0mX_test\u001b[0m\u001b[0;34m,\u001b[0m \u001b[0mY_test\u001b[0m\u001b[0;34m,\u001b[0m \u001b[0mverbose\u001b[0m\u001b[0;34m=\u001b[0m\u001b[0;36m0\u001b[0m\u001b[0;34m)\u001b[0m\u001b[0;34m\u001b[0m\u001b[0m\n",
      "\u001b[0;32m/usr/local/lib/python2.7/dist-packages/keras/models.pyc\u001b[0m in \u001b[0;36mfit\u001b[0;34m(self, x, y, batch_size, nb_epoch, verbose, callbacks, validation_split, validation_data, shuffle, class_weight, sample_weight, **kwargs)\u001b[0m\n\u001b[1;32m    427\u001b[0m                               \u001b[0mshuffle\u001b[0m\u001b[0;34m=\u001b[0m\u001b[0mshuffle\u001b[0m\u001b[0;34m,\u001b[0m\u001b[0;34m\u001b[0m\u001b[0m\n\u001b[1;32m    428\u001b[0m                               \u001b[0mclass_weight\u001b[0m\u001b[0;34m=\u001b[0m\u001b[0mclass_weight\u001b[0m\u001b[0;34m,\u001b[0m\u001b[0;34m\u001b[0m\u001b[0m\n\u001b[0;32m--> 429\u001b[0;31m                               sample_weight=sample_weight)\n\u001b[0m\u001b[1;32m    430\u001b[0m \u001b[0;34m\u001b[0m\u001b[0m\n\u001b[1;32m    431\u001b[0m     def evaluate(self, x, y, batch_size=32, verbose=1,\n",
      "\u001b[0;32m/usr/local/lib/python2.7/dist-packages/keras/engine/training.pyc\u001b[0m in \u001b[0;36mfit\u001b[0;34m(self, x, y, batch_size, nb_epoch, verbose, callbacks, validation_split, validation_data, shuffle, class_weight, sample_weight)\u001b[0m\n\u001b[1;32m   1106\u001b[0m                               \u001b[0mverbose\u001b[0m\u001b[0;34m=\u001b[0m\u001b[0mverbose\u001b[0m\u001b[0;34m,\u001b[0m \u001b[0mcallbacks\u001b[0m\u001b[0;34m=\u001b[0m\u001b[0mcallbacks\u001b[0m\u001b[0;34m,\u001b[0m\u001b[0;34m\u001b[0m\u001b[0m\n\u001b[1;32m   1107\u001b[0m                               \u001b[0mval_f\u001b[0m\u001b[0;34m=\u001b[0m\u001b[0mval_f\u001b[0m\u001b[0;34m,\u001b[0m \u001b[0mval_ins\u001b[0m\u001b[0;34m=\u001b[0m\u001b[0mval_ins\u001b[0m\u001b[0;34m,\u001b[0m \u001b[0mshuffle\u001b[0m\u001b[0;34m=\u001b[0m\u001b[0mshuffle\u001b[0m\u001b[0;34m,\u001b[0m\u001b[0;34m\u001b[0m\u001b[0m\n\u001b[0;32m-> 1108\u001b[0;31m                               callback_metrics=callback_metrics)\n\u001b[0m\u001b[1;32m   1109\u001b[0m \u001b[0;34m\u001b[0m\u001b[0m\n\u001b[1;32m   1110\u001b[0m     \u001b[0;32mdef\u001b[0m \u001b[0mevaluate\u001b[0m\u001b[0;34m(\u001b[0m\u001b[0mself\u001b[0m\u001b[0;34m,\u001b[0m \u001b[0mx\u001b[0m\u001b[0;34m,\u001b[0m \u001b[0my\u001b[0m\u001b[0;34m,\u001b[0m \u001b[0mbatch_size\u001b[0m\u001b[0;34m=\u001b[0m\u001b[0;36m32\u001b[0m\u001b[0;34m,\u001b[0m \u001b[0mverbose\u001b[0m\u001b[0;34m=\u001b[0m\u001b[0;36m1\u001b[0m\u001b[0;34m,\u001b[0m \u001b[0msample_weight\u001b[0m\u001b[0;34m=\u001b[0m\u001b[0mNone\u001b[0m\u001b[0;34m)\u001b[0m\u001b[0;34m:\u001b[0m\u001b[0;34m\u001b[0m\u001b[0m\n",
      "\u001b[0;32m/usr/local/lib/python2.7/dist-packages/keras/engine/training.pyc\u001b[0m in \u001b[0;36m_fit_loop\u001b[0;34m(self, f, ins, out_labels, batch_size, nb_epoch, verbose, callbacks, val_f, val_ins, shuffle, callback_metrics)\u001b[0m\n\u001b[1;32m    830\u001b[0m                     \u001b[0mbatch_logs\u001b[0m\u001b[0;34m[\u001b[0m\u001b[0ml\u001b[0m\u001b[0;34m]\u001b[0m \u001b[0;34m=\u001b[0m \u001b[0mo\u001b[0m\u001b[0;34m\u001b[0m\u001b[0m\n\u001b[1;32m    831\u001b[0m \u001b[0;34m\u001b[0m\u001b[0m\n\u001b[0;32m--> 832\u001b[0;31m                 \u001b[0mcallbacks\u001b[0m\u001b[0;34m.\u001b[0m\u001b[0mon_batch_end\u001b[0m\u001b[0;34m(\u001b[0m\u001b[0mbatch_index\u001b[0m\u001b[0;34m,\u001b[0m \u001b[0mbatch_logs\u001b[0m\u001b[0;34m)\u001b[0m\u001b[0;34m\u001b[0m\u001b[0m\n\u001b[0m\u001b[1;32m    833\u001b[0m \u001b[0;34m\u001b[0m\u001b[0m\n\u001b[1;32m    834\u001b[0m                 \u001b[0;32mif\u001b[0m \u001b[0mbatch_index\u001b[0m \u001b[0;34m==\u001b[0m \u001b[0mlen\u001b[0m\u001b[0;34m(\u001b[0m\u001b[0mbatches\u001b[0m\u001b[0;34m)\u001b[0m \u001b[0;34m-\u001b[0m \u001b[0;36m1\u001b[0m\u001b[0;34m:\u001b[0m  \u001b[0;31m# last batch\u001b[0m\u001b[0;34m\u001b[0m\u001b[0m\n",
      "\u001b[0;32m/usr/local/lib/python2.7/dist-packages/keras/callbacks.pyc\u001b[0m in \u001b[0;36mon_batch_end\u001b[0;34m(self, batch, logs)\u001b[0m\n\u001b[1;32m     58\u001b[0m         \u001b[0mt_before_callbacks\u001b[0m \u001b[0;34m=\u001b[0m \u001b[0mtime\u001b[0m\u001b[0;34m.\u001b[0m\u001b[0mtime\u001b[0m\u001b[0;34m(\u001b[0m\u001b[0;34m)\u001b[0m\u001b[0;34m\u001b[0m\u001b[0m\n\u001b[1;32m     59\u001b[0m         \u001b[0;32mfor\u001b[0m \u001b[0mcallback\u001b[0m \u001b[0;32min\u001b[0m \u001b[0mself\u001b[0m\u001b[0;34m.\u001b[0m\u001b[0mcallbacks\u001b[0m\u001b[0;34m:\u001b[0m\u001b[0;34m\u001b[0m\u001b[0m\n\u001b[0;32m---> 60\u001b[0;31m             \u001b[0mcallback\u001b[0m\u001b[0;34m.\u001b[0m\u001b[0mon_batch_end\u001b[0m\u001b[0;34m(\u001b[0m\u001b[0mbatch\u001b[0m\u001b[0;34m,\u001b[0m \u001b[0mlogs\u001b[0m\u001b[0;34m)\u001b[0m\u001b[0;34m\u001b[0m\u001b[0m\n\u001b[0m\u001b[1;32m     61\u001b[0m         \u001b[0mself\u001b[0m\u001b[0;34m.\u001b[0m\u001b[0m_delta_ts_batch_end\u001b[0m\u001b[0;34m.\u001b[0m\u001b[0mappend\u001b[0m\u001b[0;34m(\u001b[0m\u001b[0mtime\u001b[0m\u001b[0;34m.\u001b[0m\u001b[0mtime\u001b[0m\u001b[0;34m(\u001b[0m\u001b[0;34m)\u001b[0m \u001b[0;34m-\u001b[0m \u001b[0mt_before_callbacks\u001b[0m\u001b[0;34m)\u001b[0m\u001b[0;34m\u001b[0m\u001b[0m\n\u001b[1;32m     62\u001b[0m         \u001b[0mdelta_t_median\u001b[0m \u001b[0;34m=\u001b[0m \u001b[0mnp\u001b[0m\u001b[0;34m.\u001b[0m\u001b[0mmedian\u001b[0m\u001b[0;34m(\u001b[0m\u001b[0mself\u001b[0m\u001b[0;34m.\u001b[0m\u001b[0m_delta_ts_batch_end\u001b[0m\u001b[0;34m)\u001b[0m\u001b[0;34m\u001b[0m\u001b[0m\n",
      "\u001b[0;32m/usr/local/lib/python2.7/dist-packages/keras/callbacks.pyc\u001b[0m in \u001b[0;36mon_batch_end\u001b[0;34m(self, batch, logs)\u001b[0m\n\u001b[1;32m    186\u001b[0m         \u001b[0;31m# will be handled by on_epoch_end\u001b[0m\u001b[0;34m\u001b[0m\u001b[0;34m\u001b[0m\u001b[0m\n\u001b[1;32m    187\u001b[0m         \u001b[0;32mif\u001b[0m \u001b[0mself\u001b[0m\u001b[0;34m.\u001b[0m\u001b[0mverbose\u001b[0m \u001b[0;32mand\u001b[0m \u001b[0mself\u001b[0m\u001b[0;34m.\u001b[0m\u001b[0mseen\u001b[0m \u001b[0;34m<\u001b[0m \u001b[0mself\u001b[0m\u001b[0;34m.\u001b[0m\u001b[0mparams\u001b[0m\u001b[0;34m[\u001b[0m\u001b[0;34m'nb_sample'\u001b[0m\u001b[0;34m]\u001b[0m\u001b[0;34m:\u001b[0m\u001b[0;34m\u001b[0m\u001b[0m\n\u001b[0;32m--> 188\u001b[0;31m             \u001b[0mself\u001b[0m\u001b[0;34m.\u001b[0m\u001b[0mprogbar\u001b[0m\u001b[0;34m.\u001b[0m\u001b[0mupdate\u001b[0m\u001b[0;34m(\u001b[0m\u001b[0mself\u001b[0m\u001b[0;34m.\u001b[0m\u001b[0mseen\u001b[0m\u001b[0;34m,\u001b[0m \u001b[0mself\u001b[0m\u001b[0;34m.\u001b[0m\u001b[0mlog_values\u001b[0m\u001b[0;34m)\u001b[0m\u001b[0;34m\u001b[0m\u001b[0m\n\u001b[0m\u001b[1;32m    189\u001b[0m \u001b[0;34m\u001b[0m\u001b[0m\n\u001b[1;32m    190\u001b[0m     \u001b[0;32mdef\u001b[0m \u001b[0mon_epoch_end\u001b[0m\u001b[0;34m(\u001b[0m\u001b[0mself\u001b[0m\u001b[0;34m,\u001b[0m \u001b[0mepoch\u001b[0m\u001b[0;34m,\u001b[0m \u001b[0mlogs\u001b[0m\u001b[0;34m=\u001b[0m\u001b[0;34m{\u001b[0m\u001b[0;34m}\u001b[0m\u001b[0;34m)\u001b[0m\u001b[0;34m:\u001b[0m\u001b[0;34m\u001b[0m\u001b[0m\n",
      "\u001b[0;32m/usr/local/lib/python2.7/dist-packages/keras/utils/generic_utils.pyc\u001b[0m in \u001b[0;36mupdate\u001b[0;34m(self, current, values, force)\u001b[0m\n\u001b[1;32m     74\u001b[0m             \u001b[0mprev_total_width\u001b[0m \u001b[0;34m=\u001b[0m \u001b[0mself\u001b[0m\u001b[0;34m.\u001b[0m\u001b[0mtotal_width\u001b[0m\u001b[0;34m\u001b[0m\u001b[0m\n\u001b[1;32m     75\u001b[0m             \u001b[0msys\u001b[0m\u001b[0;34m.\u001b[0m\u001b[0mstdout\u001b[0m\u001b[0;34m.\u001b[0m\u001b[0mwrite\u001b[0m\u001b[0;34m(\u001b[0m\u001b[0;34m\"\\b\"\u001b[0m \u001b[0;34m*\u001b[0m \u001b[0mprev_total_width\u001b[0m\u001b[0;34m)\u001b[0m\u001b[0;34m\u001b[0m\u001b[0m\n\u001b[0;32m---> 76\u001b[0;31m             \u001b[0msys\u001b[0m\u001b[0;34m.\u001b[0m\u001b[0mstdout\u001b[0m\u001b[0;34m.\u001b[0m\u001b[0mwrite\u001b[0m\u001b[0;34m(\u001b[0m\u001b[0;34m\"\\r\"\u001b[0m\u001b[0;34m)\u001b[0m\u001b[0;34m\u001b[0m\u001b[0m\n\u001b[0m\u001b[1;32m     77\u001b[0m \u001b[0;34m\u001b[0m\u001b[0m\n\u001b[1;32m     78\u001b[0m             \u001b[0mnumdigits\u001b[0m \u001b[0;34m=\u001b[0m \u001b[0mint\u001b[0m\u001b[0;34m(\u001b[0m\u001b[0mnp\u001b[0m\u001b[0;34m.\u001b[0m\u001b[0mfloor\u001b[0m\u001b[0;34m(\u001b[0m\u001b[0mnp\u001b[0m\u001b[0;34m.\u001b[0m\u001b[0mlog10\u001b[0m\u001b[0;34m(\u001b[0m\u001b[0mself\u001b[0m\u001b[0;34m.\u001b[0m\u001b[0mtarget\u001b[0m\u001b[0;34m)\u001b[0m\u001b[0;34m)\u001b[0m\u001b[0;34m)\u001b[0m \u001b[0;34m+\u001b[0m \u001b[0;36m1\u001b[0m\u001b[0;34m\u001b[0m\u001b[0m\n",
      "\u001b[0;32m/usr/local/lib/python2.7/dist-packages/ipykernel/iostream.pyc\u001b[0m in \u001b[0;36mwrite\u001b[0;34m(self, string)\u001b[0m\n\u001b[1;32m    315\u001b[0m \u001b[0;34m\u001b[0m\u001b[0m\n\u001b[1;32m    316\u001b[0m             \u001b[0mis_child\u001b[0m \u001b[0;34m=\u001b[0m \u001b[0;34m(\u001b[0m\u001b[0;32mnot\u001b[0m \u001b[0mself\u001b[0m\u001b[0;34m.\u001b[0m\u001b[0m_is_master_process\u001b[0m\u001b[0;34m(\u001b[0m\u001b[0;34m)\u001b[0m\u001b[0;34m)\u001b[0m\u001b[0;34m\u001b[0m\u001b[0m\n\u001b[0;32m--> 317\u001b[0;31m             \u001b[0mself\u001b[0m\u001b[0;34m.\u001b[0m\u001b[0m_buffer\u001b[0m\u001b[0;34m.\u001b[0m\u001b[0mwrite\u001b[0m\u001b[0;34m(\u001b[0m\u001b[0mstring\u001b[0m\u001b[0;34m)\u001b[0m\u001b[0;34m\u001b[0m\u001b[0m\n\u001b[0m\u001b[1;32m    318\u001b[0m             \u001b[0;32mif\u001b[0m \u001b[0mis_child\u001b[0m\u001b[0;34m:\u001b[0m\u001b[0;34m\u001b[0m\u001b[0m\n\u001b[1;32m    319\u001b[0m                 \u001b[0;31m# newlines imply flush in subprocesses\u001b[0m\u001b[0;34m\u001b[0m\u001b[0;34m\u001b[0m\u001b[0m\n",
      "\u001b[0;31mValueError\u001b[0m: I/O operation on closed file"
     ]
    }
   ],
   "source": [
    "history = model.fit(X_train, Y_train,\n",
    "                    batch_size=batch_size, nb_epoch=nb_epoch*5,\n",
    "                    verbose=1, validation_data=(X_test, Y_test))\n",
    "\n",
    "score = model.evaluate(X_test, Y_test, verbose=0)\n",
    "print('Test score:', score[0])\n",
    "print('Test accuracy:', score[1])\n",
    "\n",
    "score = model.evaluate(X_train, Y_train, verbose=0)\n",
    "print('Train score:', score[0])\n",
    "print('Train accuracy:', score[1])"
   ]
  },
  {
   "cell_type": "markdown",
   "metadata": {},
   "source": [
    "# Playing with last layer (only Dense10)"
   ]
  },
  {
   "cell_type": "code",
   "execution_count": 163,
   "metadata": {
    "collapsed": false
   },
   "outputs": [
    {
     "name": "stdout",
     "output_type": "stream",
     "text": [
      "1000 train samples\n",
      "10000 test samples\n",
      "____________________________________________________________________________________________________\n",
      "Layer (type)                     Output Shape          Param #     Connected to                     \n",
      "====================================================================================================\n",
      "dense_103 (Dense)                (None, 512)           401920      dense_input_33[0][0]             \n",
      "____________________________________________________________________________________________________\n",
      "activation_90 (Activation)       (None, 512)           0           dense_103[0][0]                  \n",
      "____________________________________________________________________________________________________\n",
      "dense_104 (Dense)                (None, 512)           262656      activation_90[0][0]              \n",
      "____________________________________________________________________________________________________\n",
      "activation_91 (Activation)       (None, 512)           0           dense_104[0][0]                  \n",
      "____________________________________________________________________________________________________\n",
      "dense_105 (Dense)                (None, 10)            5130        activation_91[0][0]              \n",
      "____________________________________________________________________________________________________\n",
      "activation_92 (Activation)       (None, 10)            0           dense_105[0][0]                  \n",
      "====================================================================================================\n",
      "Total params: 669706\n",
      "____________________________________________________________________________________________________\n",
      "Test score: 0.0182831138365\n",
      "Test accuracy: 0.8805\n",
      "Train score: 0.00421040233411\n",
      "Train accuracy: 0.979\n"
     ]
    }
   ],
   "source": [
    "from __future__ import print_function\n",
    "import numpy as np\n",
    "import random\n",
    "np.random.seed(1337)  # for reproducibility\n",
    "\n",
    "from keras.datasets import mnist\n",
    "from keras.models import Sequential\n",
    "from keras.layers.core import Dense, Dropout, Activation\n",
    "from keras.optimizers import SGD, Adam, RMSprop\n",
    "from keras.utils import np_utils\n",
    "from keras.regularizers import l2, activity_l2\n",
    "\n",
    "\n",
    "batch_size = 512\n",
    "nb_classes = 10\n",
    "nb_epoch = 256\n",
    "\n",
    "train_slice = 1000\n",
    "test_slice = 10000\n",
    "\n",
    "\n",
    "# the data, shuffled and split between train and test sets\n",
    "(X_train, y_train), (X_test, y_test) = mnist.load_data()\n",
    "\n",
    "X_train = X_train.reshape(60000, 784)\n",
    "X_test = X_test.reshape(10000, 784)\n",
    "\n",
    "X_train = X_train.astype('float32')\n",
    "X_test = X_test.astype('float32')\n",
    "\n",
    "X_train /= 255\n",
    "X_test /= 255\n",
    "\n",
    "X_train_10000 = X_train[:train_slice]\n",
    "X_test_10000 = X_test[:test_slice]\n",
    "\n",
    "print(X_train_10000.shape[0], 'train samples')\n",
    "print(X_test_10000.shape[0], 'test samples')\n",
    "\n",
    "# convert class vectors to binary class matrices\n",
    "Y_train = np_utils.to_categorical(y_train[:train_slice], nb_classes)\n",
    "Y_test = np_utils.to_categorical(y_test[:test_slice], nb_classes)\n",
    "\n",
    "FC0 = Dense(512, input_shape=(784,))\n",
    "FC1 = Dense(512)\n",
    "FC2 = Dense(10)\n",
    "\n",
    "model = Sequential()\n",
    "model.add(FC0)\n",
    "model.add(Activation('relu'))\n",
    "model.add(FC1)\n",
    "model.add(Activation('relu'))\n",
    "model.add(FC2)\n",
    "model.add(Activation('softmax'))\n",
    "\n",
    "model.summary()\n",
    "\n",
    "model.compile(loss='mse',\n",
    "              optimizer='adadelta',\n",
    "              metrics=['accuracy'])\n",
    "\n",
    "history = model.fit(X_train_10000, Y_train,\n",
    "                    batch_size=batch_size, nb_epoch=nb_epoch,\n",
    "                    verbose=0, validation_data=(X_test_10000, Y_test))\n",
    "score = model.evaluate(X_test_10000, Y_test, verbose=0)\n",
    "print('Test score:', score[0])\n",
    "print('Test accuracy:', score[1])\n",
    "test_score = score[0]\n",
    "\n",
    "score = model.evaluate(X_train_10000, Y_train, verbose=0)\n",
    "print('Train score:', score[0])\n",
    "print('Train accuracy:', score[1])"
   ]
  },
  {
   "cell_type": "code",
   "execution_count": 164,
   "metadata": {
    "collapsed": true
   },
   "outputs": [],
   "source": [
    "history = model.fit(X_train_10000, Y_train,\n",
    "                    batch_size=128, nb_epoch=nb_epoch,\n",
    "                    verbose=0, validation_data=(X_test_10000, Y_test))"
   ]
  },
  {
   "cell_type": "code",
   "execution_count": 165,
   "metadata": {
    "collapsed": false
   },
   "outputs": [
    {
     "name": "stdout",
     "output_type": "stream",
     "text": [
      "Test score: 0.0179146409438\n",
      "Test accuracy: 0.8825\n",
      "Train score: 0.00100873790833\n",
      "Train accuracy: 0.993\n"
     ]
    }
   ],
   "source": [
    "score = model.evaluate(X_test_10000, Y_test, verbose=0)\n",
    "print('Test score:', score[0])\n",
    "print('Test accuracy:', score[1])\n",
    "test_score = score[0]\n",
    "\n",
    "score = model.evaluate(X_train_10000, Y_train, verbose=0)\n",
    "print('Train score:', score[0])\n",
    "print('Train accuracy:', score[1])"
   ]
  },
  {
   "cell_type": "code",
   "execution_count": null,
   "metadata": {
    "collapsed": false,
    "scrolled": true
   },
   "outputs": [],
   "source": [
    "layers_weights = [model.layers[0].get_weights(), model.layers[2].get_weights(),model.layers[4].get_weights()]\n",
    "\n",
    "# for backup purpose if we did something wrong, we can get the weight right here, no need to train the whole network\n",
    "orignial_layers_weight = np.copy(layers_weights)\n",
    "\n",
    "# for altering purpose make changes then put back into the network\n",
    "layer_4_altered_weight = np.copy(layers_weights[2])\n",
    "\n",
    "# to keep track of rate of change wrt the loss and weight\n",
    "l_wrt_w = np.zeros(layers_weights[2][0].shape + (2,))\n",
    "\n",
    "\n",
    "print(l_wrt_w.shape)\n",
    "\n",
    "model.layers[0].set_weights(layers_weights[0])\n",
    "model.layers[2].set_weights(layers_weights[1])\n",
    "\n",
    "\n",
    "for idx in [0,2,4]:\n",
    "    model.layers[idx].trainable = False\n",
    "\n",
    "for i in range(l_wrt_w.shape[0]):\n",
    "    for j in range(l_wrt_w.shape[1]):\n",
    "        \n",
    "        # keep the originial weight, so we don't need to do the math twice(*10, /10)\n",
    "        weight_dummy = layer_4_altered_weight[0][i][j]\n",
    "        \n",
    "        # make it ten times much bigger or smaller, see how to changes the network\n",
    "        layer_4_altered_weight[0][i][j] *= 10            \n",
    "        \n",
    "        # set the weight to the network, and evaluate the score\n",
    "        model.layers[4].set_weights(layer_4_altered_weight)\n",
    "        score = model.evaluate(X_test_10000, Y_test, verbose=0)\n",
    "        \n",
    "        l_wrt_w[i][j][0] = test_score - score[0]\n",
    "        l_wrt_w[i][j][1] = weight_dummy - layer_4_altered_weight[0][i][j]\n",
    "\n",
    "        if (j%5 == 0):\n",
    "            print(\"i,j = \", i, j)\n",
    "        \n",
    "        # set the weight back\n",
    "        layer_4_altered_weight[0][i][j] = layers_weights[2][0][i][j]"
   ]
  },
  {
   "cell_type": "code",
   "execution_count": 191,
   "metadata": {
    "collapsed": false
   },
   "outputs": [
    {
     "name": "stdout",
     "output_type": "stream",
     "text": [
      "(512, 10, 2)\n"
     ]
    },
    {
     "data": {
      "text/plain": [
       "<matplotlib.colorbar.Colorbar at 0x7fd896485510>"
      ]
     },
     "execution_count": 191,
     "metadata": {},
     "output_type": "execute_result"
    },
    {
     "data": {
      "image/png": "[encoded data removed]",
      "text/plain": [
       "<matplotlib.figure.Figure at 0x7fd88e3e0d90>"
      ]
     },
     "metadata": {},
     "output_type": "display_data"
    }
   ],
   "source": [
    "\n",
    "import matplotlib.pyplot as plt\n",
    "import numpy as np\n",
    "%matplotlib inline\n",
    "print(l_wrt_w.shape)\n",
    "\n",
    "intp = 'None'\n",
    "\n",
    "plt.figure(figsize=(10,10))\n",
    "plt.subplot(121)\n",
    "plt.imshow(l_wrt_w[:][:][:][0], cmap='inferno')#, interpolation=intp)\n",
    "plt.title('how much the score changed')\n",
    "plt.colorbar()\n",
    "\n",
    "plt.subplot(122)\n",
    "plt.imshow(l_wrt_w[:][:][:][1], cmap='inferno')#, interpolation=intp)\n",
    "plt.title('how much the weight changed')\n",
    "plt.colorbar()"
   ]
  },
  {
   "cell_type": "code",
   "execution_count": 182,
   "metadata": {
    "collapsed": false
   },
   "outputs": [
    {
     "name": "stdout",
     "output_type": "stream",
     "text": [
      "[[-0.00468645  0.73758125]\n",
      " [-0.0046776  -0.46307674]\n",
      " [-0.00480507 -1.67959082]\n",
      " [-0.00483484  0.31978858]\n",
      " [-0.00483125  1.46751714]\n",
      " [-0.00483194 -0.16768695]\n",
      " [-0.00482844  0.85824114]\n",
      " [-0.00483542 -0.30353713]\n",
      " [-0.00483594  0.0267238 ]\n",
      " [-0.00483995  0.39351088]]\n"
     ]
    }
   ],
   "source": [
    "print(l_wrt_w[500:510][:][0])"
   ]
  },
  {
   "cell_type": "markdown",
   "metadata": {},
   "source": [
    "# weight form the model which is not generalize well"
   ]
  },
  {
   "cell_type": "code",
   "execution_count": 159,
   "metadata": {
    "collapsed": false
   },
   "outputs": [
    {
     "name": "stdout",
     "output_type": "stream",
     "text": [
      "(512, 10, 2)\n"
     ]
    },
    {
     "data": {
      "text/plain": [
       "<matplotlib.text.Text at 0x7fd88e51e990>"
      ]
     },
     "execution_count": 159,
     "metadata": {},
     "output_type": "execute_result"
    },
    {
     "data": {
      "image/png": "[encoded data removed]",
      "text/plain": [
       "<matplotlib.figure.Figure at 0x7fd88e3e0090>"
      ]
     },
     "metadata": {},
     "output_type": "display_data"
    }
   ],
   "source": [
    "import matplotlib.pyplot as plt\n",
    "import numpy as np\n",
    "\n",
    "print(l_wrt_w.shape)\n",
    "\n",
    "plt.figure(figsize=(10,10))\n",
    "plt.subplot(121)\n",
    "plt.imshow(l_wrt_w[:][:][:][0], cmap='hot', interpolation='nearest')\n",
    "plt.title('how much the score changed')\n",
    "\n",
    "plt.subplot(122)\n",
    "plt.imshow(l_wrt_w[:][:][:][1], cmap='hot', interpolation='nearest')\n",
    "plt.title('how much the weight changed')"
   ]
  },
  {
   "cell_type": "code",
   "execution_count": 167,
   "metadata": {
    "collapsed": false
   },
   "outputs": [],
   "source": [
    "import pickle\n",
    "\n",
    "with open('l_wrt_w_lastlayer_9888', 'wb') as handle:\n",
    "    pickle.dump(l_wrt_w, handle)\n",
    "\n",
    "# pf = open('l_wrt_w_lastlayer_9888','rb')\n",
    "# l_wrt_w = pickle.load(pf)"
   ]
  },
  {
   "cell_type": "code",
   "execution_count": null,
   "metadata": {
    "collapsed": true
   },
   "outputs": [],
   "source": []
  }
 ],
 "metadata": {
  "kernelspec": {
   "display_name": "Python 2",
   "language": "python",
   "name": "python2"
  },
  "language_info": {
   "codemirror_mode": {
    "name": "ipython",
    "version": 2
   },
   "file_extension": ".py",
   "mimetype": "text/x-python",
   "name": "python",
   "nbconvert_exporter": "python",
   "pygments_lexer": "ipython2",
   "version": "2.7.6"
  }
 },
 "nbformat": 4,
 "nbformat_minor": 0
}
