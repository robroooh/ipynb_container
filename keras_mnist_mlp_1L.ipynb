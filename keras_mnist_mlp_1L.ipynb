{
 "cells": [
  {
   "cell_type": "code",
   "execution_count": 3,
   "metadata": {
    "collapsed": false
   },
   "outputs": [],
   "source": [
    "%matplotlib inline\n",
    "\n",
    "import numpy as np\n",
    "from scipy import misc\n",
    "import matplotlib.pyplot as plt\n",
    "from scipy import ndimage\n",
    "import cmath\n",
    "import math\n",
    "import Image\n",
    "from keras.datasets import mnist\n",
    "\n",
    "\n",
    "def resize(input_im):\n",
    "    im = Image.fromarray(input_im)\n",
    "    im = im.resize([10,10], Image.ANTIALIAS)\n",
    "    rz_im = np.asarray((im.getdata()))\n",
    "    return np.reshape(rz_im, (10,10))\n",
    "\n",
    "def getXsvd(imgmat,k):\n",
    "    U, sigma, V = np.linalg.svd(imgmat)\n",
    "    reconstimg = np.matrix(U[:, :k]) * np.diag(sigma[:k]) * np.matrix(V[:k, :])\n",
    "#     plt.imshow(reconstimg, cmap='gray')\n",
    "    return reconstimg\n",
    "    \n",
    "def getX_10():    \n",
    "    X_10_train = np.zeros((60000,10,10))\n",
    "    X_10_test =  np.zeros((10000,10,10))\n",
    "    (X_train, _), (X_test, _) = mnist.load_data()\n",
    "    for i in range(X_train.shape[0]):\n",
    "        X_10_train[i,:,:] = resize(X_train[i])\n",
    "    for i in range(X_test.shape[0]):\n",
    "        X_10_test[i,:,:] = resize(X_test[i])\n",
    "    return X_10_train,X_10_test"
   ]
  },
  {
   "cell_type": "markdown",
   "metadata": {},
   "source": [
    "# Playing with last layer (only Dense10)"
   ]
  },
  {
   "cell_type": "code",
   "execution_count": 5,
   "metadata": {
    "collapsed": false
   },
   "outputs": [
    {
     "name": "stdout",
     "output_type": "stream",
     "text": [
      "1000 train samples\n",
      "10000 test samples\n",
      "____________________________________________________________________________________________________\n",
      "Layer (type)                     Output Shape          Param #     Connected to                     \n",
      "====================================================================================================\n",
      "dense_1 (Dense)                  (None, 512)           401920      dense_input_1[0][0]              \n",
      "____________________________________________________________________________________________________\n",
      "activation_1 (Activation)        (None, 512)           0           dense_1[0][0]                    \n",
      "____________________________________________________________________________________________________\n",
      "dense_2 (Dense)                  (None, 512)           262656      activation_1[0][0]               \n",
      "____________________________________________________________________________________________________\n",
      "activation_2 (Activation)        (None, 512)           0           dense_2[0][0]                    \n",
      "____________________________________________________________________________________________________\n",
      "dense_3 (Dense)                  (None, 10)            5130        activation_2[0][0]               \n",
      "____________________________________________________________________________________________________\n",
      "activation_3 (Activation)        (None, 10)            0           dense_3[0][0]                    \n",
      "====================================================================================================\n",
      "Total params: 669706\n",
      "____________________________________________________________________________________________________\n",
      "Test score: 0.0182831138365\n",
      "Test accuracy: 0.8805\n",
      "Train score: 0.00421040233411\n",
      "Train accuracy: 0.979\n"
     ]
    }
   ],
   "source": [
    "from __future__ import print_function\n",
    "import numpy as np\n",
    "import random\n",
    "np.random.seed(1337)  # for reproducibility\n",
    "\n",
    "from keras.datasets import mnist\n",
    "from keras.models import Sequential\n",
    "from keras.layers.core import Dense, Dropout, Activation\n",
    "from keras.optimizers import SGD, Adam, RMSprop\n",
    "from keras.utils import np_utils\n",
    "from keras.regularizers import l2, activity_l2\n",
    "\n",
    "\n",
    "batch_size = 512\n",
    "nb_classes = 10\n",
    "nb_epoch = 256\n",
    "\n",
    "train_slice = 1000\n",
    "test_slice = 10000\n",
    "\n",
    "\n",
    "# the data, shuffled and split between train and test sets\n",
    "(X_train, y_train), (X_test, y_test) = mnist.load_data()\n",
    "\n",
    "X_train = X_train.reshape(60000, 784)\n",
    "X_test = X_test.reshape(10000, 784)\n",
    "\n",
    "X_train = X_train.astype('float32')\n",
    "X_test = X_test.astype('float32')\n",
    "\n",
    "X_train /= 255\n",
    "X_test /= 255\n",
    "\n",
    "X_train_10000 = X_train[:train_slice]\n",
    "X_test_10000 = X_test[:test_slice]\n",
    "\n",
    "print(X_train_10000.shape[0], 'train samples')\n",
    "print(X_test_10000.shape[0], 'test samples')\n",
    "\n",
    "# convert class vectors to binary class matrices\n",
    "Y_train = np_utils.to_categorical(y_train[:train_slice], nb_classes)\n",
    "Y_test = np_utils.to_categorical(y_test[:test_slice], nb_classes)\n",
    "\n",
    "FC0 = Dense(512, input_shape=(784,))\n",
    "FC1 = Dense(512)\n",
    "FC2 = Dense(10)\n",
    "\n",
    "model = Sequential()\n",
    "model.add(FC0)\n",
    "model.add(Activation('relu'))\n",
    "model.add(FC1)\n",
    "model.add(Activation('relu'))\n",
    "model.add(FC2)\n",
    "model.add(Activation('softmax'))\n",
    "\n",
    "model.summary()\n",
    "\n",
    "model.compile(loss='mse',\n",
    "              optimizer='adadelta',\n",
    "              metrics=['accuracy'])\n",
    "\n",
    "history = model.fit(X_train_10000, Y_train,\n",
    "                    batch_size=batch_size, nb_epoch=nb_epoch,\n",
    "                    verbose=0, validation_data=(X_test_10000, Y_test))\n",
    "score = model.evaluate(X_test_10000, Y_test, verbose=0)\n",
    "print('Test score:', score[0])\n",
    "print('Test accuracy:', score[1])\n",
    "test_score = score[0]\n",
    "\n",
    "score = model.evaluate(X_train_10000, Y_train, verbose=0)\n",
    "print('Train score:', score[0])\n",
    "print('Train accuracy:', score[1])"
   ]
  },
  {
   "cell_type": "markdown",
   "metadata": {},
   "source": [
    "# Trying to figure out the proper value for incrementing weight\n",
    " - run another epoch, get the mode of weight difference"
   ]
  },
  {
   "cell_type": "code",
   "execution_count": 6,
   "metadata": {
    "collapsed": false
   },
   "outputs": [
    {
     "name": "stdout",
     "output_type": "stream",
     "text": [
      "(512, 10, 2)\n"
     ]
    }
   ],
   "source": [
    "layers_weights = [model.layers[0].get_weights(), model.layers[2].get_weights(),model.layers[4].get_weights()]\n",
    "\n",
    "# for backup purpose if we did something wrong, we can get the weight right here, no need to train the whole network\n",
    "orignial_layers_weight = np.copy(layers_weights)\n",
    "\n",
    "# for altering purpose make changes then put back into the network\n",
    "layer_4_altered_weight = np.copy(layers_weights[2])\n",
    "\n",
    "# to keep track of rate of change wrt the loss and weight\n",
    "l_wrt_w = np.zeros(layers_weights[2][0].shape + (2,))\n",
    "\n",
    "print(l_wrt_w.shape)"
   ]
  },
  {
   "cell_type": "code",
   "execution_count": 7,
   "metadata": {
    "collapsed": true
   },
   "outputs": [],
   "source": [
    "history = model.fit(X_train_10000, Y_train,\n",
    "                    batch_size=batch_size, nb_epoch=1,\n",
    "                    verbose=0, validation_data=(X_test_10000, Y_test))"
   ]
  },
  {
   "cell_type": "code",
   "execution_count": 36,
   "metadata": {
    "collapsed": false
   },
   "outputs": [],
   "source": [
    "# get mode of weight differences\n",
    "l4w = model.layers[4].get_weights()\n",
    "d = (l4w[0] - layers_weights[2][0])\n",
    "\n",
    "from collections import Counter\n",
    "data = Counter(d.flatten())\n",
    "mode_w = data.most_common(10000)  # Returns the highest occurring item"
   ]
  },
  {
   "cell_type": "code",
   "execution_count": 49,
   "metadata": {
    "collapsed": false
   },
   "outputs": [
    {
     "name": "stdout",
     "output_type": "stream",
     "text": [
      "0.0001\n"
     ]
    }
   ],
   "source": [
    "num = 1*10**-4\n",
    "print(num)"
   ]
  },
  {
   "cell_type": "code",
   "execution_count": 69,
   "metadata": {
    "collapsed": false
   },
   "outputs": [
    {
     "name": "stdout",
     "output_type": "stream",
     "text": [
      "0.0\n"
     ]
    }
   ],
   "source": [
    "res = mode_w[0]\n",
    "print(res[0])"
   ]
  },
  {
   "cell_type": "code",
   "execution_count": 74,
   "metadata": {
    "collapsed": false
   },
   "outputs": [
    {
     "name": "stdout",
     "output_type": "stream",
     "text": [
      "[1, 10, 100, 1000, 10000, 100000, 1000000, 10000000, 100000000, 1000000000, 10000000000, 100000000000, 1000000000000, 10000000000000, 100000000000000, 1000000000000000, 10000000000000000, 100000000000000000, 1000000000000000000, 10000000000000000000L, 100000000000000000000L, 1000000000000000000000L, 10000000000000000000000L, 100000000000000000000000L, 1000000000000000000000000L, 10000000000000000000000000L, 100000000000000000000000000L, 1000000000000000000000000000L, 10000000000000000000000000000L, 100000000000000000000000000000L]\n"
     ]
    }
   ],
   "source": [
    "print([10**(x) for x in range(30)])"
   ]
  },
  {
   "cell_type": "markdown",
   "metadata": {},
   "source": [
    "# Iterate to find the most mainstream number"
   ]
  },
  {
   "cell_type": "code",
   "execution_count": 88,
   "metadata": {
    "collapsed": false
   },
   "outputs": [
    {
     "name": "stdout",
     "output_type": "stream",
     "text": [
      "(-7.2531402e-06, 1)\n"
     ]
    }
   ],
   "source": [
    "print(mode_w[1000])"
   ]
  },
  {
   "cell_type": "code",
   "execution_count": 108,
   "metadata": {
    "collapsed": false
   },
   "outputs": [],
   "source": [
    "dic = {}\n",
    "\n",
    "for num in mode_w:\n",
    "    for j in [10, 100, 1000, 10000, 100000, 1000000, 10000000, 100000000, 1000000000, 10000000000, 100000000000, 1000000000000, 10000000000000, 100000000000000, 1000000000000000, 10000000000000000, 100000000000000000, 1000000000000000000, 10000000000000000000L, 100000000000000000000L, 1000000000000000000000L, 10000000000000000000000L, 100000000000000000000000L, 1000000000000000000000000L, 10000000000000000000000000L, 100000000000000000000000000L, 1000000000000000000000000000L, 10000000000000000000000000000L, 100000000000000000000000000000L]:\n",
    "        res = abs(num[0] * j)\n",
    "#         print(res)\n",
    "        if res >= 1 and res < 10:\n",
    "            dic[j] = dic.get(j,0)+1"
   ]
  },
  {
   "cell_type": "code",
   "execution_count": 111,
   "metadata": {
    "collapsed": false
   },
   "outputs": [
    {
     "name": "stdout",
     "output_type": "stream",
     "text": [
      "{1000000000: 14, 100000000: 51, 10000: 177, 1000000: 975, 10000000: 224, 100000: 3133}\n",
      "1e-09 14\n",
      "1e-08 51\n",
      "0.0001 177\n",
      "1e-06 975\n",
      "1e-07 224\n",
      "1e-05 3133\n"
     ]
    }
   ],
   "source": [
    "print(dic)\n",
    "for k,v in dic.iteritems():\n",
    "    print(1.0/k, v)"
   ]
  },
  {
   "cell_type": "code",
   "execution_count": null,
   "metadata": {
    "collapsed": false,
    "scrolled": true
   },
   "outputs": [],
   "source": [
    "model.layers[0].set_weights(layers_weights[0])\n",
    "model.layers[2].set_weights(layers_weights[1])\n",
    "\n",
    "\n",
    "for idx in [0,2,4]:\n",
    "    model.layers[idx].trainable = False\n",
    "\n",
    "for i in range(l_wrt_w.shape[0]):\n",
    "    for j in range(l_wrt_w.shape[1]):\n",
    "        \n",
    "        # keep the originial weight, so we don't need to do the math twice(*10, /10)\n",
    "        weight_dummy = layer_4_altered_weight[0][i][j]\n",
    "        \n",
    "        # make it ten times much bigger or smaller, see how to changes the network\n",
    "        layer_4_altered_weight[0][i][j] *= 10\n",
    "        \n",
    "        # set the weight to the network, and evaluate the score\n",
    "        model.layers[4].set_weights(layer_4_altered_weight)\n",
    "        score = model.evaluate(X_test_10000, Y_test, verbose=0)\n",
    "        \n",
    "        l_wrt_w[i][j][0] = test_score - score[0]\n",
    "        l_wrt_w[i][j][1] = weight_dummy - layer_4_altered_weight[0][i][j]\n",
    "\n",
    "        if (j%5 == 0):\n",
    "            print(\"i,j = \", i, j)\n",
    "        \n",
    "        # set the weight back\n",
    "        layer_4_altered_weight[0][i][j] = layers_weights[2][0][i][j]"
   ]
  },
  {
   "cell_type": "markdown",
   "metadata": {},
   "source": [
    "What the fuck do we get from delta Loss/weight"
   ]
  },
  {
   "cell_type": "code",
   "execution_count": 209,
   "metadata": {
    "collapsed": false
   },
   "outputs": [
    {
     "name": "stdout",
     "output_type": "stream",
     "text": [
      "(512, 10, 2)\n"
     ]
    },
    {
     "data": {
      "text/plain": [
       "<matplotlib.colorbar.Colorbar at 0x7fd87923b1d0>"
      ]
     },
     "execution_count": 209,
     "metadata": {},
     "output_type": "execute_result"
    },
    {
     "data": {
      "image/png": "[encoded data removed]",
      "text/plain": [
       "<matplotlib.figure.Figure at 0x7fd87a316a50>"
      ]
     },
     "metadata": {},
     "output_type": "display_data"
    }
   ],
   "source": [
    "import matplotlib.pyplot as plt\n",
    "import numpy as np\n",
    "%matplotlib inline\n",
    "print(l_wrt_w.shape)\n",
    "\n",
    "intp = 'None'\n",
    "\n",
    "plt.figure(figsize=(15,10))\n",
    "plt.subplot(141)\n",
    "plt.imshow(l_wrt_w[:][:][:][0], cmap='inferno')#, interpolation=intp)\n",
    "plt.title('delta(loss)')\n",
    "plt.colorbar()\n",
    "\n",
    "plt.subplot(142)\n",
    "plt.imshow(l_wrt_w[:][:][:][1], cmap='inferno')#, interpolation=intp)\n",
    "plt.title('delta(weight)')\n",
    "plt.colorbar()\n",
    "\n",
    "plt.subplot(143)\n",
    "plt.imshow(l_wrt_w[:][:][:][0]/l_wrt_w[:][:][:][1], cmap='inferno', interpolation='none')\n",
    "plt.title('deltaL/deltaw')\n",
    "plt.colorbar()\n",
    "\n",
    "# plt.subplot(144)\n",
    "# plt.imshow(l_wrt_w[:][:][:][0]/abs(l_wrt_w[:][:][:][1]), cmap='inferno')#, interpolation=intp)\n",
    "# plt.title('deltaL/abs(w)')\n",
    "# plt.colorbar()\n",
    "\n",
    "# plt.subplot(155)\n",
    "# plt.imshow(abs(l_wrt_w[:][:][:][0])/abs(l_wrt_w[:][:][:][1]), cmap='inferno')#, interpolation=intp)\n",
    "# plt.title('abs(deltaL)/abs(w)')\n",
    "\n",
    "# plt.colorbar()"
   ]
  },
  {
   "cell_type": "code",
   "execution_count": 167,
   "metadata": {
    "collapsed": false
   },
   "outputs": [],
   "source": [
    "import pickle\n",
    "\n",
    "with open('l_wrt_w_lastlayer_9888', 'wb') as handle:\n",
    "    pickle.dump(l_wrt_w, handle)\n",
    "\n",
    "# pf = open('l_wrt_w_lastlayer_9888','rb')\n",
    "# l_wrt_w = pickle.load(pf)"
   ]
  },
  {
   "cell_type": "code",
   "execution_count": null,
   "metadata": {
    "collapsed": true
   },
   "outputs": [],
   "source": []
  },
  {
   "cell_type": "code",
   "execution_count": 212,
   "metadata": {
    "collapsed": false
   },
   "outputs": [],
   "source": [
    "w_diff = []\n",
    "for o,n in zip(layers_weights[2],model.layers[4].get_weights()):\n",
    "    w_diff.append(abs(o-n))"
   ]
  },
  {
   "cell_type": "code",
   "execution_count": 215,
   "metadata": {
    "collapsed": false
   },
   "outputs": [
    {
     "ename": "TypeError",
     "evalue": "unhashable type: 'numpy.ndarray'",
     "output_type": "error",
     "traceback": [
      "\u001b[0;31m\u001b[0m",
      "\u001b[0;31mTypeError\u001b[0mTraceback (most recent call last)",
      "\u001b[0;32m<ipython-input-215-f1f25b367f35>\u001b[0m in \u001b[0;36m<module>\u001b[0;34m()\u001b[0m\n\u001b[1;32m      1\u001b[0m \u001b[0;32mfrom\u001b[0m \u001b[0mcollections\u001b[0m \u001b[0;32mimport\u001b[0m \u001b[0mCounter\u001b[0m\u001b[0;34m\u001b[0m\u001b[0m\n\u001b[0;32m----> 2\u001b[0;31m \u001b[0mdata\u001b[0m \u001b[0;34m=\u001b[0m \u001b[0mCounter\u001b[0m\u001b[0;34m(\u001b[0m\u001b[0mw_diff\u001b[0m\u001b[0;34m)\u001b[0m\u001b[0;34m\u001b[0m\u001b[0m\n\u001b[0m\u001b[1;32m      3\u001b[0m \u001b[0mdata\u001b[0m\u001b[0;34m.\u001b[0m\u001b[0mmost_common\u001b[0m\u001b[0;34m(\u001b[0m\u001b[0;34m)\u001b[0m   \u001b[0;31m# Returns all unique items and their counts\u001b[0m\u001b[0;34m\u001b[0m\u001b[0m\n\u001b[1;32m      4\u001b[0m \u001b[0mdata\u001b[0m\u001b[0;34m.\u001b[0m\u001b[0mmost_common\u001b[0m\u001b[0;34m(\u001b[0m\u001b[0;36m1\u001b[0m\u001b[0;34m)\u001b[0m  \u001b[0;31m# Returns the highest occurring item\u001b[0m\u001b[0;34m\u001b[0m\u001b[0m\n",
      "\u001b[0;32m/usr/lib/python2.7/collections.pyc\u001b[0m in \u001b[0;36m__init__\u001b[0;34m(self, iterable, **kwds)\u001b[0m\n\u001b[1;32m    448\u001b[0m         '''\n\u001b[1;32m    449\u001b[0m         \u001b[0msuper\u001b[0m\u001b[0;34m(\u001b[0m\u001b[0mCounter\u001b[0m\u001b[0;34m,\u001b[0m \u001b[0mself\u001b[0m\u001b[0;34m)\u001b[0m\u001b[0;34m.\u001b[0m\u001b[0m__init__\u001b[0m\u001b[0;34m(\u001b[0m\u001b[0;34m)\u001b[0m\u001b[0;34m\u001b[0m\u001b[0m\n\u001b[0;32m--> 450\u001b[0;31m         \u001b[0mself\u001b[0m\u001b[0;34m.\u001b[0m\u001b[0mupdate\u001b[0m\u001b[0;34m(\u001b[0m\u001b[0miterable\u001b[0m\u001b[0;34m,\u001b[0m \u001b[0;34m**\u001b[0m\u001b[0mkwds\u001b[0m\u001b[0;34m)\u001b[0m\u001b[0;34m\u001b[0m\u001b[0m\n\u001b[0m\u001b[1;32m    451\u001b[0m \u001b[0;34m\u001b[0m\u001b[0m\n\u001b[1;32m    452\u001b[0m     \u001b[0;32mdef\u001b[0m \u001b[0m__missing__\u001b[0m\u001b[0;34m(\u001b[0m\u001b[0mself\u001b[0m\u001b[0;34m,\u001b[0m \u001b[0mkey\u001b[0m\u001b[0;34m)\u001b[0m\u001b[0;34m:\u001b[0m\u001b[0;34m\u001b[0m\u001b[0m\n",
      "\u001b[0;32m/usr/lib/python2.7/collections.pyc\u001b[0m in \u001b[0;36mupdate\u001b[0;34m(self, iterable, **kwds)\u001b[0m\n\u001b[1;32m    530\u001b[0m                 \u001b[0mself_get\u001b[0m \u001b[0;34m=\u001b[0m \u001b[0mself\u001b[0m\u001b[0;34m.\u001b[0m\u001b[0mget\u001b[0m\u001b[0;34m\u001b[0m\u001b[0m\n\u001b[1;32m    531\u001b[0m                 \u001b[0;32mfor\u001b[0m \u001b[0melem\u001b[0m \u001b[0;32min\u001b[0m \u001b[0miterable\u001b[0m\u001b[0;34m:\u001b[0m\u001b[0;34m\u001b[0m\u001b[0m\n\u001b[0;32m--> 532\u001b[0;31m                     \u001b[0mself\u001b[0m\u001b[0;34m[\u001b[0m\u001b[0melem\u001b[0m\u001b[0;34m]\u001b[0m \u001b[0;34m=\u001b[0m \u001b[0mself_get\u001b[0m\u001b[0;34m(\u001b[0m\u001b[0melem\u001b[0m\u001b[0;34m,\u001b[0m \u001b[0;36m0\u001b[0m\u001b[0;34m)\u001b[0m \u001b[0;34m+\u001b[0m \u001b[0;36m1\u001b[0m\u001b[0;34m\u001b[0m\u001b[0m\n\u001b[0m\u001b[1;32m    533\u001b[0m         \u001b[0;32mif\u001b[0m \u001b[0mkwds\u001b[0m\u001b[0;34m:\u001b[0m\u001b[0;34m\u001b[0m\u001b[0m\n\u001b[1;32m    534\u001b[0m             \u001b[0mself\u001b[0m\u001b[0;34m.\u001b[0m\u001b[0mupdate\u001b[0m\u001b[0;34m(\u001b[0m\u001b[0mkwds\u001b[0m\u001b[0;34m)\u001b[0m\u001b[0;34m\u001b[0m\u001b[0m\n",
      "\u001b[0;31mTypeError\u001b[0m: unhashable type: 'numpy.ndarray'"
     ]
    }
   ],
   "source": [
    "from collections import Counter\n",
    "data = Counter(w_diff)\n",
    "data.most_common()   # Returns all unique items and their counts\n",
    "data.most_common(1)  # Returns the highest occurring item"
   ]
  },
  {
   "cell_type": "code",
   "execution_count": null,
   "metadata": {
    "collapsed": true
   },
   "outputs": [],
   "source": []
  }
 ],
 "metadata": {
  "kernelspec": {
   "display_name": "Python 2",
   "language": "python",
   "name": "python2"
  },
  "language_info": {
   "codemirror_mode": {
    "name": "ipython",
    "version": 2
   },
   "file_extension": ".py",
   "mimetype": "text/x-python",
   "name": "python",
   "nbconvert_exporter": "python",
   "pygments_lexer": "ipython2",
   "version": "2.7.6"
  }
 },
 "nbformat": 4,
 "nbformat_minor": 0
}
