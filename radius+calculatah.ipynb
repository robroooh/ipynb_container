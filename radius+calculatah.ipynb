{
 "cells": [
  {
   "cell_type": "markdown",
   "metadata": {},
   "source": [
    "# Lat Long things\n",
    "\n",
    "An interactive guide to Lat Long things for my beloved ปอยปู๋\n",
    "\n",
    "First, we need a formula which can get the distance between two points for the sake of our understanding.\n",
    "the below is the Python implementation of Haversine Formula  https://en.wikipedia.org/wiki/Haversine_formula briefly go through it if you have time"
   ]
  },
  {
   "cell_type": "code",
   "execution_count": 67,
   "metadata": {
    "collapsed": true
   },
   "outputs": [],
   "source": [
    "from math import radians, cos, sin, asin, sqrt, acos\n",
    "def haversine(lon1, lat1, lon2, lat2):\n",
    "    \"\"\"\n",
    "    Calculate the great circle distance between two points \n",
    "    on the earth (specified in decimal degrees)\n",
    "    \"\"\"\n",
    "    # convert decimal degrees to radians \n",
    "    lon1, lat1, lon2, lat2 = map(radians, [lon1, lat1, lon2, lat2])\n",
    "    # haversine formula \n",
    "    dlon = lon2 - lon1 \n",
    "    dlat = lat2 - lat1 \n",
    "    a = sin(dlat/2)**2 + cos(lat1) * cos(lat2) * sin(dlon/2)**2\n",
    "    c = 2 * asin(sqrt(a)) \n",
    "    km = 6367 * c\n",
    "    return km"
   ]
  },
  {
   "cell_type": "markdown",
   "metadata": {},
   "source": [
    "#### Try to guess which magnitude that the lat2,lon2 would be given lat1,lon1 to fullfil the sake of distance in 1km"
   ]
  },
  {
   "cell_type": "code",
   "execution_count": 21,
   "metadata": {
    "collapsed": false
   },
   "outputs": [
    {
     "data": {
      "text/plain": [
       "1.008364469374399"
      ]
     },
     "execution_count": 21,
     "metadata": {},
     "output_type": "execute_result"
    }
   ],
   "source": [
    "lat1 = 13.730787\n",
    "lon1 = 100.455445\n",
    "lat2 = lat1+0.05\n",
    "lon2 = lon1+0.0001\n",
    "\n",
    "haversine(lat1,lon1,lat1+0.05,lon1+0.0001)"
   ]
  },
  {
   "cell_type": "markdown",
   "metadata": {},
   "source": [
    "quite small eh..\n",
    "\n",
    "now we know what the value should look like\n",
    "you can go through http://www.movable-type.co.uk/scripts/latlong-db.html to read about how they derive with the formula for it\n",
    "\n",
    "$$φbounds = φ ± d/R \\\\\n",
    "λbounds = λ ± asin(d/R) / cosφ$$\n",
    "\n",
    "*Note: we need to convert from rad2deg *"
   ]
  },
  {
   "cell_type": "code",
   "execution_count": 79,
   "metadata": {
    "collapsed": false
   },
   "outputs": [],
   "source": [
    "rad = 1.0\n",
    "R = 6367.0\n",
    "maxLat = lat1 + np.rad2deg(rad/R);\n",
    "minLat = lat1 - np.rad2deg(rad/R);\n",
    "maxLon = lon1 + np.rad2deg(asin(rad/R) / cos(np.deg2rad(lat1)));\n",
    "minLon = lon1 - np.rad2deg(asin(rad/R) / cos(np.deg2rad(lat1)));"
   ]
  },
  {
   "cell_type": "code",
   "execution_count": 80,
   "metadata": {
    "collapsed": false
   },
   "outputs": [
    {
     "name": "stdout",
     "output_type": "stream",
     "text": [
      "maxLat:  13.739785866\n",
      "minLat:  13.721788134\n",
      "maxLon:  100.464708604\n",
      "minLon:  100.446181396\n"
     ]
    }
   ],
   "source": [
    "print(\"maxLat: \", maxLat)\n",
    "print(\"minLat: \", minLat)\n",
    "print(\"maxLon: \", maxLon)\n",
    "print(\"minLon: \", minLon)"
   ]
  },
  {
   "cell_type": "code",
   "execution_count": 82,
   "metadata": {
    "collapsed": false
   },
   "outputs": [
    {
     "data": {
      "text/plain": [
       "1.045278126237154"
      ]
     },
     "execution_count": 82,
     "metadata": {},
     "output_type": "execute_result"
    }
   ],
   "source": [
    "haversine(lat1,lon1,minLat,minLon)"
   ]
  },
  {
   "cell_type": "markdown",
   "metadata": {},
   "source": [
    "## Cool, we got what we have\n",
    "\n",
    "we might need to validate the result, which for all values between maxLat,minLat,maxLon,minLon should not yield > 1km "
   ]
  },
  {
   "cell_type": "code",
   "execution_count": 85,
   "metadata": {
    "collapsed": false
   },
   "outputs": [
    {
     "name": "stdout",
     "output_type": "stream",
     "text": [
      "Me so Latitudes: [ 13.72178813  13.72180615  13.72182417  13.72184218  13.7218602\n",
      "  13.72187821  13.72189623  13.72191424  13.72193226  13.72195028]\n",
      "Me so Longitudes: [ 100.4461814   100.44619994  100.44621849  100.44623703  100.44625558\n",
      "  100.44627412  100.44629267  100.44631122  100.44632976  100.44634831]\n"
     ]
    }
   ],
   "source": [
    "import numpy as np\n",
    "\n",
    "lats = np.linspace(minLat,maxLat,1000)\n",
    "lons = np.linspace(minLon,maxLon,1000)\n",
    "print(\"Me so Latitudes: {}\".format(lats[:10]))\n",
    "print(\"Me so Longitudes: {}\".format(lons[:10]))"
   ]
  },
  {
   "cell_type": "code",
   "execution_count": 87,
   "metadata": {
    "collapsed": false,
    "scrolled": false
   },
   "outputs": [],
   "source": [
    "for lat in lats:\n",
    "    for lon in lons:\n",
    "        assert haversine(lat1,lon1,lat,lon) <= 1.1"
   ]
  }
 ],
 "metadata": {
  "kernelspec": {
   "display_name": "Python 3",
   "language": "python",
   "name": "python3"
  },
  "language_info": {
   "codemirror_mode": {
    "name": "ipython",
    "version": 3
   },
   "file_extension": ".py",
   "mimetype": "text/x-python",
   "name": "python",
   "nbconvert_exporter": "python",
   "pygments_lexer": "ipython3",
   "version": "3.4.3"
  }
 },
 "nbformat": 4,
 "nbformat_minor": 1
}
